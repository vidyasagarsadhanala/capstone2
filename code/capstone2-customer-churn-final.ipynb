{
 "cells": [
  {
   "cell_type": "code",
   "execution_count": 3,
   "metadata": {},
   "outputs": [],
   "source": [
    "import pandas as pd\n",
    "import numpy as np\n",
    "import matplotlib.pyplot as plt\n",
    "import seaborn as sns"
   ]
  },
  {
   "cell_type": "code",
   "execution_count": 4,
   "metadata": {},
   "outputs": [],
   "source": [
    "# Input training data\n",
    "df = pd.read_csv('C:\\\\Users\\\\09350\\\\Documents\\\\SpringBoard\\\\capstone2\\\\capstone2\\\\data\\\\archive\\\\WA_Fn-UseC_-Telco-Customer-Churn.csv')"
   ]
  },
  {
   "cell_type": "code",
   "execution_count": 5,
   "metadata": {},
   "outputs": [
    {
     "name": "stdout",
     "output_type": "stream",
     "text": [
      "<class 'pandas.core.frame.DataFrame'>\n",
      "RangeIndex: 7043 entries, 0 to 7042\n",
      "Data columns (total 21 columns):\n",
      " #   Column            Non-Null Count  Dtype  \n",
      "---  ------            --------------  -----  \n",
      " 0   customerID        7043 non-null   object \n",
      " 1   gender            7043 non-null   object \n",
      " 2   SeniorCitizen     7043 non-null   int64  \n",
      " 3   Partner           7043 non-null   object \n",
      " 4   Dependents        7043 non-null   object \n",
      " 5   tenure            7043 non-null   int64  \n",
      " 6   PhoneService      7043 non-null   object \n",
      " 7   MultipleLines     7043 non-null   object \n",
      " 8   InternetService   7043 non-null   object \n",
      " 9   OnlineSecurity    7043 non-null   object \n",
      " 10  OnlineBackup      7043 non-null   object \n",
      " 11  DeviceProtection  7043 non-null   object \n",
      " 12  TechSupport       7043 non-null   object \n",
      " 13  StreamingTV       7043 non-null   object \n",
      " 14  StreamingMovies   7043 non-null   object \n",
      " 15  Contract          7043 non-null   object \n",
      " 16  PaperlessBilling  7043 non-null   object \n",
      " 17  PaymentMethod     7043 non-null   object \n",
      " 18  MonthlyCharges    7043 non-null   float64\n",
      " 19  TotalCharges      7043 non-null   object \n",
      " 20  Churn             7043 non-null   object \n",
      "dtypes: float64(1), int64(2), object(18)\n",
      "memory usage: 1.1+ MB\n"
     ]
    }
   ],
   "source": [
    "#peek at the data\n",
    "df.head()\n",
    "\n",
    "#Get info about the data\n",
    "df.info()"
   ]
  },
  {
   "cell_type": "markdown",
   "metadata": {},
   "source": [
    "customerID: Customer ID<br>\n",
    "genderCustomer: gender (female, male)<br>\n",
    "SeniorCitizen: Whether the customer is a senior citizen or not (1, 0)<br>\n",
    "PartnerWhether: the customer has a partner or not (Yes, No)<br>\n",
    "Dependents: Whether the customer has dependents or not (Yes, No)<br>\n",
    "tenure: Number of months the customer has stayed with the company<br>\n",
    "PhoneService: Whether the customer has a phone service or not (Yes, No)<br>\n",
    "MultipleLines: Whether the customer has multiple lines or not (Yes, No, No phone service)<br>\n",
    "InternetService: Customer’s internet service provider (DSL, Fiber optic, No)<br>\n",
    "OnlineSecurity: Whether the customer has online security or not (Yes, No, No internet service)<br>\n",
    "OnlineBackup: Whether the customer has online backup or not (Yes, No, No internet service)<br>\n",
    "DeviceProtection: Whether the customer has device protection or not (Yes, No, No internet service)<br>\n",
    "TechSupport: Whether the customer has tech support or not (Yes, No, No internet service)<br>\n",
    "StreamingTV: Whether the customer has streaming TV or not (Yes, No, No internet service)<br>\n",
    "StreamingMovies: Whether the customer has streaming movies or not (Yes, No, No internet service)<br>\n",
    "Contract: The contract term of the customer (Month-to-month, One year, Two year)<br>\n",
    "PaperlessBilling: Whether the customer has paperless billing or not (Yes, No)<br>\n",
    "PaymentMethod: The customer’s payment method (Electronic check, mailed check, Bank transfer (automatic), Credit card (automatic))<br>\n",
    "MonthlyCharges: The amount charged to the customer monthly<br>\n",
    "TotalCharges: The total amount charged to the customer<br>\n",
    "Churn: Whether the customer churned or not (Yes or No)"
   ]
  },
  {
   "cell_type": "code",
   "execution_count": 6,
   "metadata": {},
   "outputs": [
    {
     "name": "stdout",
     "output_type": "stream",
     "text": [
      "No     5174\n",
      "Yes    1869\n",
      "Name: Churn, dtype: int64\n",
      "\n",
      "\n",
      "Roughly a quarter of the customers in this data set have churned!\n"
     ]
    }
   ],
   "source": [
    "#look at the values for target variable\n",
    "churn_counts = df['Churn'].value_counts()\n",
    "print(churn_counts)\n",
    "print('\\n')\n",
    "print('Roughly a quarter of the customers in this data set have churned!')"
   ]
  },
  {
   "cell_type": "code",
   "execution_count": 7,
   "metadata": {},
   "outputs": [
    {
     "data": {
      "image/png": "[encoded data removed]",
      "text/plain": [
       "<Figure size 576x504 with 1 Axes>"
      ]
     },
     "metadata": {},
     "output_type": "display_data"
    }
   ],
   "source": [
    "df_plt = df.groupby(['Churn']).size().plot.bar(x=\"Churn\",y=\"Counts\",color='#e87322')\n",
    "\n",
    "# Set x-axis label\n",
    "df_plt.set_xlabel(\"Churn (yes/no)\", labelpad=20, weight='bold', size=12)\n",
    "\n",
    "# Set y-axis label\n",
    "df_plt.set_ylabel(\"Customer Counts\", labelpad=20, weight='bold', size=12)\n",
    "\n",
    "# set Title\n",
    "df_plt.set_title('Churn Customer Counts')\n",
    "\n",
    "plt.show()"
   ]
  },
  {
   "cell_type": "code",
   "execution_count": 8,
   "metadata": {},
   "outputs": [
    {
     "data": {
      "text/plain": [
       "customerID           object\n",
       "gender               object\n",
       "SeniorCitizen         int64\n",
       "Partner              object\n",
       "Dependents           object\n",
       "tenure                int64\n",
       "PhoneService         object\n",
       "MultipleLines        object\n",
       "InternetService      object\n",
       "OnlineSecurity       object\n",
       "OnlineBackup         object\n",
       "DeviceProtection     object\n",
       "TechSupport          object\n",
       "StreamingTV          object\n",
       "StreamingMovies      object\n",
       "Contract             object\n",
       "PaperlessBilling     object\n",
       "PaymentMethod        object\n",
       "MonthlyCharges      float64\n",
       "TotalCharges         object\n",
       "Churn                object\n",
       "dtype: object"
      ]
     },
     "execution_count": 8,
     "metadata": {},
     "output_type": "execute_result"
    }
   ],
   "source": [
    "#different types for data in this dataframe\n",
    "df.dtypes"
   ]
  },
  {
   "cell_type": "code",
   "execution_count": 9,
   "metadata": {},
   "outputs": [],
   "source": [
    "# converting churn to numerical variable for analyzing\n",
    "df.loc[df.Churn=='No','Churn'] = 0 \n",
    "df.loc[df.Churn=='Yes','Churn'] = 1\n",
    "df['Churn'] = df['Churn'].astype(int)"
   ]
  },
  {
   "cell_type": "code",
   "execution_count": 10,
   "metadata": {},
   "outputs": [
    {
     "name": "stdout",
     "output_type": "stream",
     "text": [
      "<class 'pandas.core.frame.DataFrame'>\n",
      "RangeIndex: 7043 entries, 0 to 7042\n",
      "Data columns (total 21 columns):\n",
      " #   Column            Non-Null Count  Dtype  \n",
      "---  ------            --------------  -----  \n",
      " 0   customerID        7043 non-null   object \n",
      " 1   gender            7043 non-null   object \n",
      " 2   SeniorCitizen     7043 non-null   int64  \n",
      " 3   Partner           7043 non-null   object \n",
      " 4   Dependents        7043 non-null   object \n",
      " 5   tenure            7043 non-null   int64  \n",
      " 6   PhoneService      7043 non-null   object \n",
      " 7   MultipleLines     7043 non-null   object \n",
      " 8   InternetService   7043 non-null   object \n",
      " 9   OnlineSecurity    7043 non-null   object \n",
      " 10  OnlineBackup      7043 non-null   object \n",
      " 11  DeviceProtection  7043 non-null   object \n",
      " 12  TechSupport       7043 non-null   object \n",
      " 13  StreamingTV       7043 non-null   object \n",
      " 14  StreamingMovies   7043 non-null   object \n",
      " 15  Contract          7043 non-null   object \n",
      " 16  PaperlessBilling  7043 non-null   object \n",
      " 17  PaymentMethod     7043 non-null   object \n",
      " 18  MonthlyCharges    7043 non-null   float64\n",
      " 19  TotalCharges      7043 non-null   object \n",
      " 20  Churn             7043 non-null   int32  \n",
      "dtypes: float64(1), int32(1), int64(2), object(17)\n",
      "memory usage: 1.1+ MB\n"
     ]
    }
   ],
   "source": [
    "df.info()"
   ]
  },
  {
   "cell_type": "code",
   "execution_count": 11,
   "metadata": {},
   "outputs": [
    {
     "data": {
      "text/html": [
       "<div>\n",
       "<style scoped>\n",
       "    .dataframe tbody tr th:only-of-type {\n",
       "        vertical-align: middle;\n",
       "    }\n",
       "\n",
       "    .dataframe tbody tr th {\n",
       "        vertical-align: top;\n",
       "    }\n",
       "\n",
       "    .dataframe thead th {\n",
       "        text-align: right;\n",
       "    }\n",
       "</style>\n",
       "<table border=\"1\" class=\"dataframe\">\n",
       "  <thead>\n",
       "    <tr style=\"text-align: right;\">\n",
       "      <th></th>\n",
       "      <th>tenure</th>\n",
       "      <th>MonthlyCharges</th>\n",
       "      <th>TotalCharges</th>\n",
       "    </tr>\n",
       "  </thead>\n",
       "  <tbody>\n",
       "    <tr>\n",
       "      <th>count</th>\n",
       "      <td>7043.000000</td>\n",
       "      <td>7043.000000</td>\n",
       "      <td>7043</td>\n",
       "    </tr>\n",
       "    <tr>\n",
       "      <th>unique</th>\n",
       "      <td>NaN</td>\n",
       "      <td>NaN</td>\n",
       "      <td>6531</td>\n",
       "    </tr>\n",
       "    <tr>\n",
       "      <th>top</th>\n",
       "      <td>NaN</td>\n",
       "      <td>NaN</td>\n",
       "      <td></td>\n",
       "    </tr>\n",
       "    <tr>\n",
       "      <th>freq</th>\n",
       "      <td>NaN</td>\n",
       "      <td>NaN</td>\n",
       "      <td>11</td>\n",
       "    </tr>\n",
       "    <tr>\n",
       "      <th>mean</th>\n",
       "      <td>32.371149</td>\n",
       "      <td>64.761692</td>\n",
       "      <td>NaN</td>\n",
       "    </tr>\n",
       "    <tr>\n",
       "      <th>std</th>\n",
       "      <td>24.559481</td>\n",
       "      <td>30.090047</td>\n",
       "      <td>NaN</td>\n",
       "    </tr>\n",
       "    <tr>\n",
       "      <th>min</th>\n",
       "      <td>0.000000</td>\n",
       "      <td>18.250000</td>\n",
       "      <td>NaN</td>\n",
       "    </tr>\n",
       "    <tr>\n",
       "      <th>25%</th>\n",
       "      <td>9.000000</td>\n",
       "      <td>35.500000</td>\n",
       "      <td>NaN</td>\n",
       "    </tr>\n",
       "    <tr>\n",
       "      <th>50%</th>\n",
       "      <td>29.000000</td>\n",
       "      <td>70.350000</td>\n",
       "      <td>NaN</td>\n",
       "    </tr>\n",
       "    <tr>\n",
       "      <th>75%</th>\n",
       "      <td>55.000000</td>\n",
       "      <td>89.850000</td>\n",
       "      <td>NaN</td>\n",
       "    </tr>\n",
       "    <tr>\n",
       "      <th>max</th>\n",
       "      <td>72.000000</td>\n",
       "      <td>118.750000</td>\n",
       "      <td>NaN</td>\n",
       "    </tr>\n",
       "  </tbody>\n",
       "</table>\n",
       "</div>"
      ],
      "text/plain": [
       "             tenure  MonthlyCharges TotalCharges\n",
       "count   7043.000000     7043.000000         7043\n",
       "unique          NaN             NaN         6531\n",
       "top             NaN             NaN             \n",
       "freq            NaN             NaN           11\n",
       "mean      32.371149       64.761692          NaN\n",
       "std       24.559481       30.090047          NaN\n",
       "min        0.000000       18.250000          NaN\n",
       "25%        9.000000       35.500000          NaN\n",
       "50%       29.000000       70.350000          NaN\n",
       "75%       55.000000       89.850000          NaN\n",
       "max       72.000000      118.750000          NaN"
      ]
     },
     "execution_count": 11,
     "metadata": {},
     "output_type": "execute_result"
    }
   ],
   "source": [
    "df[['tenure','MonthlyCharges','TotalCharges']].describe(include = 'all')"
   ]
  },
  {
   "cell_type": "code",
   "execution_count": 12,
   "metadata": {},
   "outputs": [
    {
     "name": "stdout",
     "output_type": "stream",
     "text": [
      "We see that Tenure ranges from 0 (new customer) to 6 years, Monthly charges range from $18 to $118, etc\n"
     ]
    }
   ],
   "source": [
    "print('We see that Tenure ranges from 0 (new customer) to 6 years, Monthly charges range from $18 to $118, etc')"
   ]
  },
  {
   "cell_type": "code",
   "execution_count": 13,
   "metadata": {},
   "outputs": [],
   "source": [
    "#Total charges is obect in the data types converting to number\n",
    "totalCharges = df.columns.get_loc(\"TotalCharges\")\n",
    "new_col = pd.to_numeric(df.iloc[:, totalCharges], errors='coerce')\n",
    "df.iloc[:, totalCharges] = pd.Series(new_col)"
   ]
  },
  {
   "cell_type": "code",
   "execution_count": 14,
   "metadata": {},
   "outputs": [
    {
     "name": "stdout",
     "output_type": "stream",
     "text": [
      "<class 'pandas.core.frame.DataFrame'>\n",
      "RangeIndex: 7043 entries, 0 to 7042\n",
      "Data columns (total 21 columns):\n",
      " #   Column            Non-Null Count  Dtype  \n",
      "---  ------            --------------  -----  \n",
      " 0   customerID        7043 non-null   object \n",
      " 1   gender            7043 non-null   object \n",
      " 2   SeniorCitizen     7043 non-null   int64  \n",
      " 3   Partner           7043 non-null   object \n",
      " 4   Dependents        7043 non-null   object \n",
      " 5   tenure            7043 non-null   int64  \n",
      " 6   PhoneService      7043 non-null   object \n",
      " 7   MultipleLines     7043 non-null   object \n",
      " 8   InternetService   7043 non-null   object \n",
      " 9   OnlineSecurity    7043 non-null   object \n",
      " 10  OnlineBackup      7043 non-null   object \n",
      " 11  DeviceProtection  7043 non-null   object \n",
      " 12  TechSupport       7043 non-null   object \n",
      " 13  StreamingTV       7043 non-null   object \n",
      " 14  StreamingMovies   7043 non-null   object \n",
      " 15  Contract          7043 non-null   object \n",
      " 16  PaperlessBilling  7043 non-null   object \n",
      " 17  PaymentMethod     7043 non-null   object \n",
      " 18  MonthlyCharges    7043 non-null   float64\n",
      " 19  TotalCharges      7032 non-null   float64\n",
      " 20  Churn             7043 non-null   int32  \n",
      "dtypes: float64(2), int32(1), int64(2), object(16)\n",
      "memory usage: 1.1+ MB\n"
     ]
    }
   ],
   "source": [
    "#checking if the TotalCharges datatype is now resolved\n",
    "df.info()"
   ]
  },
  {
   "cell_type": "code",
   "execution_count": 15,
   "metadata": {},
   "outputs": [
    {
     "data": {
      "image/png": "[encoded data removed]",
      "text/plain": [
       "<Figure size 1080x1080 with 4 Axes>"
      ]
     },
     "metadata": {},
     "output_type": "display_data"
    }
   ],
   "source": [
    "#Visual summary of the numerical variables in the dataframe\n",
    "pd.DataFrame.hist(df[['MonthlyCharges','TotalCharges','tenure','Churn']], figsize= [15,15],color='#250e62');"
   ]
  },
  {
   "cell_type": "code",
   "execution_count": 16,
   "metadata": {},
   "outputs": [
    {
     "name": "stdout",
     "output_type": "stream",
     "text": [
      "Index(['TotalCharges'], dtype='object')\n"
     ]
    }
   ],
   "source": [
    "# Looks like Total charges has missing values -- Missing Values\n",
    "\n",
    "#df.isnull().values.any()\n",
    "\n",
    "#(df.isnull().sum())\n",
    "\n",
    "print(df.columns[df.isnull().any()])"
   ]
  },
  {
   "cell_type": "code",
   "execution_count": 17,
   "metadata": {},
   "outputs": [
    {
     "data": {
      "image/png": "[encoded data removed]",
      "text/plain": [
       "<Figure size 576x504 with 2 Axes>"
      ]
     },
     "metadata": {},
     "output_type": "display_data"
    }
   ],
   "source": [
    "sns.heatmap(df.corr(),annot=True,linewidths=2)\n",
    "plt.title('correlation between the numerical variables in the dataset')\n",
    "plt.show()"
   ]
  },
  {
   "cell_type": "code",
   "execution_count": 18,
   "metadata": {},
   "outputs": [],
   "source": [
    "import pandas_profiling"
   ]
  },
  {
   "cell_type": "code",
   "execution_count": 19,
   "metadata": {},
   "outputs": [],
   "source": [
    "# dealing with missing values by imputing\n",
    "\n",
    "# Handle missing values for nan_column (TotalCharges)\n",
    "from sklearn.impute import SimpleImputer\n",
    "\n",
    "# Find the column number for TotalCharges (starting at 0).\n",
    "total_charges_idx = df.columns.get_loc(\"TotalCharges\")\n",
    "imputer = SimpleImputer(missing_values=np.nan, strategy='mean')\n",
    "\n",
    "df.iloc[:, total_charges_idx] = imputer.fit_transform(df.iloc[:, total_charges_idx].values.reshape(-1, 1))\n",
    "df.iloc[:, total_charges_idx] = pd.Series(df.iloc[:, total_charges_idx])"
   ]
  },
  {
   "cell_type": "code",
   "execution_count": 20,
   "metadata": {},
   "outputs": [
    {
     "name": "stdout",
     "output_type": "stream",
     "text": [
      "False\n"
     ]
    },
    {
     "data": {
      "text/plain": [
       "customerID          0\n",
       "gender              0\n",
       "SeniorCitizen       0\n",
       "Partner             0\n",
       "Dependents          0\n",
       "tenure              0\n",
       "PhoneService        0\n",
       "MultipleLines       0\n",
       "InternetService     0\n",
       "OnlineSecurity      0\n",
       "OnlineBackup        0\n",
       "DeviceProtection    0\n",
       "TechSupport         0\n",
       "StreamingTV         0\n",
       "StreamingMovies     0\n",
       "Contract            0\n",
       "PaperlessBilling    0\n",
       "PaymentMethod       0\n",
       "MonthlyCharges      0\n",
       "TotalCharges        0\n",
       "Churn               0\n",
       "dtype: int64"
      ]
     },
     "execution_count": 20,
     "metadata": {},
     "output_type": "execute_result"
    }
   ],
   "source": [
    "# Validate that we have addressed any NaN values\n",
    "print(df.isnull().values.any())\n",
    "df.isnull().sum()"
   ]
  },
  {
   "cell_type": "code",
   "execution_count": 21,
   "metadata": {},
   "outputs": [],
   "source": [
    "#Lets looks a a data profiling report using pandas_profiling API\n",
    "#pandas_profiling.ProfileReport(df)"
   ]
  },
  {
   "cell_type": "code",
   "execution_count": 22,
   "metadata": {},
   "outputs": [
    {
     "data": {
      "text/html": [
       "<div>\n",
       "<style scoped>\n",
       "    .dataframe tbody tr th:only-of-type {\n",
       "        vertical-align: middle;\n",
       "    }\n",
       "\n",
       "    .dataframe tbody tr th {\n",
       "        vertical-align: top;\n",
       "    }\n",
       "\n",
       "    .dataframe thead th {\n",
       "        text-align: right;\n",
       "    }\n",
       "</style>\n",
       "<table border=\"1\" class=\"dataframe\">\n",
       "  <thead>\n",
       "    <tr style=\"text-align: right;\">\n",
       "      <th></th>\n",
       "      <th>customerID</th>\n",
       "      <th>gender</th>\n",
       "      <th>SeniorCitizen</th>\n",
       "      <th>Partner</th>\n",
       "      <th>Dependents</th>\n",
       "      <th>tenure</th>\n",
       "      <th>PhoneService</th>\n",
       "      <th>MultipleLines</th>\n",
       "      <th>InternetService</th>\n",
       "      <th>OnlineSecurity</th>\n",
       "      <th>...</th>\n",
       "      <th>DeviceProtection</th>\n",
       "      <th>TechSupport</th>\n",
       "      <th>StreamingTV</th>\n",
       "      <th>StreamingMovies</th>\n",
       "      <th>Contract</th>\n",
       "      <th>PaperlessBilling</th>\n",
       "      <th>PaymentMethod</th>\n",
       "      <th>MonthlyCharges</th>\n",
       "      <th>TotalCharges</th>\n",
       "      <th>Churn</th>\n",
       "    </tr>\n",
       "  </thead>\n",
       "  <tbody>\n",
       "    <tr>\n",
       "      <th>0</th>\n",
       "      <td>7590-VHVEG</td>\n",
       "      <td>Female</td>\n",
       "      <td>0</td>\n",
       "      <td>Yes</td>\n",
       "      <td>No</td>\n",
       "      <td>1</td>\n",
       "      <td>No</td>\n",
       "      <td>No phone service</td>\n",
       "      <td>DSL</td>\n",
       "      <td>No</td>\n",
       "      <td>...</td>\n",
       "      <td>No</td>\n",
       "      <td>No</td>\n",
       "      <td>No</td>\n",
       "      <td>No</td>\n",
       "      <td>Month-to-month</td>\n",
       "      <td>Yes</td>\n",
       "      <td>Electronic check</td>\n",
       "      <td>29.85</td>\n",
       "      <td>29.85</td>\n",
       "      <td>0</td>\n",
       "    </tr>\n",
       "    <tr>\n",
       "      <th>1</th>\n",
       "      <td>5575-GNVDE</td>\n",
       "      <td>Male</td>\n",
       "      <td>0</td>\n",
       "      <td>No</td>\n",
       "      <td>No</td>\n",
       "      <td>34</td>\n",
       "      <td>Yes</td>\n",
       "      <td>No</td>\n",
       "      <td>DSL</td>\n",
       "      <td>Yes</td>\n",
       "      <td>...</td>\n",
       "      <td>Yes</td>\n",
       "      <td>No</td>\n",
       "      <td>No</td>\n",
       "      <td>No</td>\n",
       "      <td>One year</td>\n",
       "      <td>No</td>\n",
       "      <td>Mailed check</td>\n",
       "      <td>56.95</td>\n",
       "      <td>1889.50</td>\n",
       "      <td>0</td>\n",
       "    </tr>\n",
       "    <tr>\n",
       "      <th>2</th>\n",
       "      <td>3668-QPYBK</td>\n",
       "      <td>Male</td>\n",
       "      <td>0</td>\n",
       "      <td>No</td>\n",
       "      <td>No</td>\n",
       "      <td>2</td>\n",
       "      <td>Yes</td>\n",
       "      <td>No</td>\n",
       "      <td>DSL</td>\n",
       "      <td>Yes</td>\n",
       "      <td>...</td>\n",
       "      <td>No</td>\n",
       "      <td>No</td>\n",
       "      <td>No</td>\n",
       "      <td>No</td>\n",
       "      <td>Month-to-month</td>\n",
       "      <td>Yes</td>\n",
       "      <td>Mailed check</td>\n",
       "      <td>53.85</td>\n",
       "      <td>108.15</td>\n",
       "      <td>1</td>\n",
       "    </tr>\n",
       "    <tr>\n",
       "      <th>3</th>\n",
       "      <td>7795-CFOCW</td>\n",
       "      <td>Male</td>\n",
       "      <td>0</td>\n",
       "      <td>No</td>\n",
       "      <td>No</td>\n",
       "      <td>45</td>\n",
       "      <td>No</td>\n",
       "      <td>No phone service</td>\n",
       "      <td>DSL</td>\n",
       "      <td>Yes</td>\n",
       "      <td>...</td>\n",
       "      <td>Yes</td>\n",
       "      <td>Yes</td>\n",
       "      <td>No</td>\n",
       "      <td>No</td>\n",
       "      <td>One year</td>\n",
       "      <td>No</td>\n",
       "      <td>Bank transfer (automatic)</td>\n",
       "      <td>42.30</td>\n",
       "      <td>1840.75</td>\n",
       "      <td>0</td>\n",
       "    </tr>\n",
       "    <tr>\n",
       "      <th>4</th>\n",
       "      <td>9237-HQITU</td>\n",
       "      <td>Female</td>\n",
       "      <td>0</td>\n",
       "      <td>No</td>\n",
       "      <td>No</td>\n",
       "      <td>2</td>\n",
       "      <td>Yes</td>\n",
       "      <td>No</td>\n",
       "      <td>Fiber optic</td>\n",
       "      <td>No</td>\n",
       "      <td>...</td>\n",
       "      <td>No</td>\n",
       "      <td>No</td>\n",
       "      <td>No</td>\n",
       "      <td>No</td>\n",
       "      <td>Month-to-month</td>\n",
       "      <td>Yes</td>\n",
       "      <td>Electronic check</td>\n",
       "      <td>70.70</td>\n",
       "      <td>151.65</td>\n",
       "      <td>1</td>\n",
       "    </tr>\n",
       "  </tbody>\n",
       "</table>\n",
       "<p>5 rows × 21 columns</p>\n",
       "</div>"
      ],
      "text/plain": [
       "   customerID  gender  SeniorCitizen Partner Dependents  tenure PhoneService  \\\n",
       "0  7590-VHVEG  Female              0     Yes         No       1           No   \n",
       "1  5575-GNVDE    Male              0      No         No      34          Yes   \n",
       "2  3668-QPYBK    Male              0      No         No       2          Yes   \n",
       "3  7795-CFOCW    Male              0      No         No      45           No   \n",
       "4  9237-HQITU  Female              0      No         No       2          Yes   \n",
       "\n",
       "      MultipleLines InternetService OnlineSecurity  ... DeviceProtection  \\\n",
       "0  No phone service             DSL             No  ...               No   \n",
       "1                No             DSL            Yes  ...              Yes   \n",
       "2                No             DSL            Yes  ...               No   \n",
       "3  No phone service             DSL            Yes  ...              Yes   \n",
       "4                No     Fiber optic             No  ...               No   \n",
       "\n",
       "  TechSupport StreamingTV StreamingMovies        Contract PaperlessBilling  \\\n",
       "0          No          No              No  Month-to-month              Yes   \n",
       "1          No          No              No        One year               No   \n",
       "2          No          No              No  Month-to-month              Yes   \n",
       "3         Yes          No              No        One year               No   \n",
       "4          No          No              No  Month-to-month              Yes   \n",
       "\n",
       "               PaymentMethod MonthlyCharges  TotalCharges  Churn  \n",
       "0           Electronic check          29.85         29.85      0  \n",
       "1               Mailed check          56.95       1889.50      0  \n",
       "2               Mailed check          53.85        108.15      1  \n",
       "3  Bank transfer (automatic)          42.30       1840.75      0  \n",
       "4           Electronic check          70.70        151.65      1  \n",
       "\n",
       "[5 rows x 21 columns]"
      ]
     },
     "execution_count": 22,
     "metadata": {},
     "output_type": "execute_result"
    }
   ],
   "source": [
    "df.head()"
   ]
  },
  {
   "cell_type": "code",
   "execution_count": 23,
   "metadata": {},
   "outputs": [
    {
     "name": "stdout",
     "output_type": "stream",
     "text": [
      "<class 'pandas.core.frame.DataFrame'>\n",
      "RangeIndex: 7043 entries, 0 to 7042\n",
      "Data columns (total 21 columns):\n",
      " #   Column            Non-Null Count  Dtype  \n",
      "---  ------            --------------  -----  \n",
      " 0   customerID        7043 non-null   object \n",
      " 1   gender            7043 non-null   object \n",
      " 2   SeniorCitizen     7043 non-null   int64  \n",
      " 3   Partner           7043 non-null   object \n",
      " 4   Dependents        7043 non-null   object \n",
      " 5   tenure            7043 non-null   int64  \n",
      " 6   PhoneService      7043 non-null   object \n",
      " 7   MultipleLines     7043 non-null   object \n",
      " 8   InternetService   7043 non-null   object \n",
      " 9   OnlineSecurity    7043 non-null   object \n",
      " 10  OnlineBackup      7043 non-null   object \n",
      " 11  DeviceProtection  7043 non-null   object \n",
      " 12  TechSupport       7043 non-null   object \n",
      " 13  StreamingTV       7043 non-null   object \n",
      " 14  StreamingMovies   7043 non-null   object \n",
      " 15  Contract          7043 non-null   object \n",
      " 16  PaperlessBilling  7043 non-null   object \n",
      " 17  PaymentMethod     7043 non-null   object \n",
      " 18  MonthlyCharges    7043 non-null   float64\n",
      " 19  TotalCharges      7043 non-null   float64\n",
      " 20  Churn             7043 non-null   int32  \n",
      "dtypes: float64(2), int32(1), int64(2), object(16)\n",
      "memory usage: 1.1+ MB\n"
     ]
    }
   ],
   "source": [
    "df.info()"
   ]
  },
  {
   "cell_type": "markdown",
   "metadata": {},
   "source": [
    "### EDA & Data Visualization"
   ]
  },
  {
   "cell_type": "code",
   "execution_count": 24,
   "metadata": {},
   "outputs": [
    {
     "data": {
      "text/plain": [
       "[(0.6509803921568628, 0.807843137254902, 0.8901960784313725),\n",
       " (0.12156862745098039, 0.47058823529411764, 0.7058823529411765),\n",
       " (0.6980392156862745, 0.8745098039215686, 0.5411764705882353),\n",
       " (0.2, 0.6274509803921569, 0.17254901960784313),\n",
       " (0.984313725490196, 0.6039215686274509, 0.6),\n",
       " (0.8901960784313725, 0.10196078431372549, 0.10980392156862745),\n",
       " (0.9921568627450981, 0.7490196078431373, 0.43529411764705883),\n",
       " (1.0, 0.4980392156862745, 0.0),\n",
       " (0.792156862745098, 0.6980392156862745, 0.8392156862745098),\n",
       " (0.41568627450980394, 0.23921568627450981, 0.6039215686274509),\n",
       " (1.0, 1.0, 0.6),\n",
       " (0.6941176470588235, 0.34901960784313724, 0.1568627450980392)]"
      ]
     },
     "execution_count": 24,
     "metadata": {},
     "output_type": "execute_result"
    }
   ],
   "source": [
    "sns.set()\n",
    "sns.set_style('darkgrid')\n",
    "sns.axes_style(\"whitegrid\")\n",
    "sns.color_palette(\"Paired\")"
   ]
  },
  {
   "cell_type": "code",
   "execution_count": 25,
   "metadata": {},
   "outputs": [
    {
     "data": {
      "image/png": "[encoded data removed]",
      "text/plain": [
       "<Figure size 576x504 with 1 Axes>"
      ]
     },
     "metadata": {},
     "output_type": "display_data"
    }
   ],
   "source": [
    "# churn rate by gender\n",
    "sns.color_palette(\"hls\", 8)\n",
    "#sns.barplot(x=\"gender\",y=df[\"Churn\"].mean() ,data=df)\n",
    "sns.countplot(df.gender,hue=df.Churn).set_title('Churn Rate by Gender')\n",
    "\n",
    "plt.show()"
   ]
  },
  {
   "cell_type": "code",
   "execution_count": 26,
   "metadata": {},
   "outputs": [
    {
     "name": "stdout",
     "output_type": "stream",
     "text": [
      "           Churn\n",
      "gender          \n",
      "Female  0.269209\n",
      "Male    0.261603\n",
      "Female churn is little higher, but not that big difference\n"
     ]
    }
   ],
   "source": [
    "# plotting gender\n",
    "mean_churn = df[['gender','Churn']].groupby('gender').mean()\n",
    "print(mean_churn)\n",
    "print(\"Female churn is little higher, but not that big difference\")"
   ]
  },
  {
   "cell_type": "code",
   "execution_count": 27,
   "metadata": {},
   "outputs": [
    {
     "data": {
      "image/png": "[encoded data removed]",
      "text/plain": [
       "<Figure size 576x504 with 1 Axes>"
      ]
     },
     "metadata": {},
     "output_type": "display_data"
    }
   ],
   "source": [
    "# churn rate by InternetService\n",
    "sns.barplot(x=\"InternetService\",y=df[\"Churn\"]\n",
    "            ,data=df,ci=None).set_title('Churn Rate by Internet Service')\n",
    "\n",
    "plt.show()"
   ]
  },
  {
   "cell_type": "code",
   "execution_count": 28,
   "metadata": {},
   "outputs": [
    {
     "name": "stdout",
     "output_type": "stream",
     "text": [
      "                    Churn\n",
      "InternetService          \n",
      "DSL              0.189591\n",
      "Fiber optic      0.418928\n",
      "No               0.074050\n",
      "Fiber Optic customers are churning at a higher rate\n"
     ]
    }
   ],
   "source": [
    "# plotting Internet Servive type\n",
    "isp_churn = df[['InternetService','Churn']].groupby('InternetService').mean()\n",
    "print(isp_churn)\n",
    "print(\"Fiber Optic customers are churning at a higher rate\")"
   ]
  },
  {
   "cell_type": "code",
   "execution_count": 29,
   "metadata": {},
   "outputs": [
    {
     "data": {
      "image/png": "[encoded data removed]",
      "text/plain": [
       "<Figure size 576x504 with 1 Axes>"
      ]
     },
     "metadata": {},
     "output_type": "display_data"
    }
   ],
   "source": [
    "\n",
    "# churn rate by Contract type\n",
    "sns.barplot(x=\"Contract\",y=df[\"Churn\"]\n",
    "            ,data=df,ci=None).set_title('Churn Rate by Contract')\n",
    "\n",
    "plt.show()"
   ]
  },
  {
   "cell_type": "code",
   "execution_count": 30,
   "metadata": {},
   "outputs": [
    {
     "name": "stdout",
     "output_type": "stream",
     "text": [
      "                   Churn\n",
      "Contract                \n",
      "Month-to-month  0.427097\n",
      "One year        0.112695\n",
      "Two year        0.028319\n",
      "Month to Month subscribers are churning at a higher rate\n"
     ]
    }
   ],
   "source": [
    "# plotting Churn rate by Contract type\n",
    "cont_churn = df[['Contract','Churn']].groupby('Contract').mean()\n",
    "print(cont_churn)\n",
    "print(\"Month to Month subscribers are churning at a higher rate\")"
   ]
  },
  {
   "cell_type": "code",
   "execution_count": 31,
   "metadata": {},
   "outputs": [
    {
     "data": {
      "image/png": "[encoded data removed]",
      "text/plain": [
       "<Figure size 576x504 with 1 Axes>"
      ]
     },
     "metadata": {},
     "output_type": "display_data"
    }
   ],
   "source": [
    "# churn rate by TechSupport\n",
    "sns.barplot(x=\"TechSupport\",y=df[\"Churn\"]\n",
    "            ,data=df,ci=None).set_title('Churn Rate by TechSuppot')\n",
    "\n",
    "plt.show()"
   ]
  },
  {
   "cell_type": "code",
   "execution_count": 32,
   "metadata": {},
   "outputs": [
    {
     "name": "stdout",
     "output_type": "stream",
     "text": [
      "                        Churn\n",
      "TechSupport                  \n",
      "No                   0.416355\n",
      "No internet service  0.074050\n",
      "Yes                  0.151663\n",
      "Customers who did not use  Tech Support are churning at a higher rate\n"
     ]
    }
   ],
   "source": [
    "# plotting Churn rate by TechSupport\n",
    "tech_churn = df[['TechSupport','Churn']].groupby('TechSupport').mean()\n",
    "print(tech_churn)\n",
    "print(\"Customers who did not use  Tech Support are churning at a higher rate\")"
   ]
  },
  {
   "cell_type": "code",
   "execution_count": 33,
   "metadata": {},
   "outputs": [
    {
     "data": {
      "image/png": "[encoded data removed]",
      "text/plain": [
       "<Figure size 576x504 with 1 Axes>"
      ]
     },
     "metadata": {},
     "output_type": "display_data"
    }
   ],
   "source": [
    "# churn rate by Payment method\n",
    "sns.barplot(x=\"PaymentMethod\",y=df[\"Churn\"]\n",
    "            ,data=df,ci=None).set_title('Churn Rate by Payment method')\n",
    "plt.xticks(rotation=70)\n",
    "\n",
    "plt.show()"
   ]
  },
  {
   "cell_type": "code",
   "execution_count": 34,
   "metadata": {},
   "outputs": [
    {
     "name": "stdout",
     "output_type": "stream",
     "text": [
      "                              Churn\n",
      "PaymentMethod                      \n",
      "Bank transfer (automatic)  0.167098\n",
      "Credit card (automatic)    0.152431\n",
      "Electronic check           0.452854\n",
      "Mailed check               0.191067\n",
      "Customers who use checks as payment method are churning at higher rate\n"
     ]
    }
   ],
   "source": [
    "# plotting PaymentMethod\n",
    "paym_churn = df[['PaymentMethod','Churn']].groupby('PaymentMethod').mean()\n",
    "print(paym_churn)\n",
    "print(\"Customers who use checks as payment method are churning at higher rate\")"
   ]
  },
  {
   "cell_type": "code",
   "execution_count": 35,
   "metadata": {},
   "outputs": [
    {
     "data": {
      "image/png": "[encoded data removed]",
      "text/plain": [
       "<Figure size 576x504 with 1 Axes>"
      ]
     },
     "metadata": {},
     "output_type": "display_data"
    }
   ],
   "source": [
    "# churn rate by Paperless Billing\n",
    "sns.barplot(x=\"PaperlessBilling\",y=df[\"Churn\"]\n",
    "            ,data=df,ci=None).set_title('Churn Rate by Paperless Billing')\n",
    "plt.xticks(rotation=0)\n",
    "\n",
    "plt.show()"
   ]
  },
  {
   "cell_type": "code",
   "execution_count": 36,
   "metadata": {},
   "outputs": [
    {
     "name": "stdout",
     "output_type": "stream",
     "text": [
      "                     Churn\n",
      "PaperlessBilling          \n",
      "No                0.163301\n",
      "Yes               0.335651\n",
      "Customers who are on paperless billing are churning at higher rate\n"
     ]
    }
   ],
   "source": [
    "# plotting PaperlessBilling\n",
    "ebill_churn = df[['PaperlessBilling','Churn']].groupby('PaperlessBilling').mean()\n",
    "print(ebill_churn)\n",
    "print(\"Customers who are on paperless billing are churning at higher rate\")"
   ]
  },
  {
   "cell_type": "code",
   "execution_count": 37,
   "metadata": {},
   "outputs": [
    {
     "data": {
      "image/png": "[encoded data removed]",
      "text/plain": [
       "<Figure size 576x504 with 1 Axes>"
      ]
     },
     "metadata": {},
     "output_type": "display_data"
    }
   ],
   "source": [
    "# churn rate by StreamingMovies\n",
    "sns.barplot(x=\"StreamingMovies\",y=df[\"Churn\"]\n",
    "            ,data=df,ci=None).set_title('Churn Rate by StreamingMovies')\n",
    "plt.xticks(rotation=0)\n",
    "\n",
    "plt.show()"
   ]
  },
  {
   "cell_type": "code",
   "execution_count": 38,
   "metadata": {},
   "outputs": [
    {
     "name": "stdout",
     "output_type": "stream",
     "text": [
      "                        Churn\n",
      "StreamingMovies              \n",
      "No                   0.336804\n",
      "No internet service  0.074050\n",
      "Yes                  0.299414\n",
      "Customers who not steaming movies subscribers are churning at higher rate\n"
     ]
    }
   ],
   "source": [
    "# plotting PaperlessBilling\n",
    "smove_churn = df[['StreamingMovies','Churn']].groupby('StreamingMovies').mean()\n",
    "print(smove_churn)\n",
    "print(\"Customers who not steaming movies subscribers are churning at higher rate\")"
   ]
  },
  {
   "cell_type": "code",
   "execution_count": 39,
   "metadata": {},
   "outputs": [
    {
     "data": {
      "image/png": "[encoded data removed]",
      "text/plain": [
       "<Figure size 576x504 with 1 Axes>"
      ]
     },
     "metadata": {},
     "output_type": "display_data"
    }
   ],
   "source": [
    "# churn rate by StreamingTV\n",
    "sns.barplot(x=\"StreamingTV\",y=df[\"Churn\"]\n",
    "            ,data=df,ci=None).set_title('Churn Rate by StreamingTV')\n",
    "plt.xticks(rotation=0)\n",
    "\n",
    "plt.show()"
   ]
  },
  {
   "cell_type": "code",
   "execution_count": 40,
   "metadata": {},
   "outputs": [
    {
     "name": "stdout",
     "output_type": "stream",
     "text": [
      "                        Churn\n",
      "StreamingTV                  \n",
      "No                   0.335231\n",
      "No internet service  0.074050\n",
      "Yes                  0.300702\n",
      "Customers who not steaming tv subscribers are churning at higher rate\n"
     ]
    }
   ],
   "source": [
    "# plotting PaperlessBilling\n",
    "stv_churn = df[['StreamingTV','Churn']].groupby('StreamingTV').mean()\n",
    "print(stv_churn)\n",
    "print(\"Customers who not steaming tv subscribers are churning at higher rate\")"
   ]
  },
  {
   "cell_type": "code",
   "execution_count": 41,
   "metadata": {},
   "outputs": [
    {
     "data": {
      "text/plain": [
       "count    7043.000000\n",
       "mean       32.371149\n",
       "std        24.559481\n",
       "min         0.000000\n",
       "25%         9.000000\n",
       "50%        29.000000\n",
       "75%        55.000000\n",
       "max        72.000000\n",
       "Name: tenure, dtype: float64"
      ]
     },
     "execution_count": 41,
     "metadata": {},
     "output_type": "execute_result"
    }
   ],
   "source": [
    "df.tenure.describe()"
   ]
  },
  {
   "cell_type": "code",
   "execution_count": 42,
   "metadata": {
    "scrolled": true
   },
   "outputs": [
    {
     "name": "stdout",
     "output_type": "stream",
     "text": [
      "It shows that if the customer\"s tenure is long then churn rate is low\n"
     ]
    },
    {
     "data": {
      "image/png": "[encoded data removed]",
      "text/plain": [
       "<Figure size 576x504 with 1 Axes>"
      ]
     },
     "metadata": {},
     "output_type": "display_data"
    }
   ],
   "source": [
    "from matplotlib.axes._axes import _log as matplotlib_axes_logger\n",
    "matplotlib_axes_logger.setLevel('ERROR')\n",
    "df_plot = df.groupby('tenure').Churn.mean().reset_index()\n",
    "df_plot.plot.scatter(x='tenure',y='Churn')\n",
    "plt.title('Churn rate by tunure')\n",
    "\n",
    "print('It shows that if the customer\"s tenure is long then churn rate is low')"
   ]
  },
  {
   "cell_type": "code",
   "execution_count": 43,
   "metadata": {},
   "outputs": [
    {
     "data": {
      "text/plain": [
       "count    7043.000000\n",
       "mean       64.761692\n",
       "std        30.090047\n",
       "min        18.250000\n",
       "25%        35.500000\n",
       "50%        70.350000\n",
       "75%        89.850000\n",
       "max       118.750000\n",
       "Name: MonthlyCharges, dtype: float64"
      ]
     },
     "execution_count": 43,
     "metadata": {},
     "output_type": "execute_result"
    }
   ],
   "source": [
    "df.MonthlyCharges.describe()"
   ]
  },
  {
   "cell_type": "code",
   "execution_count": 44,
   "metadata": {},
   "outputs": [
    {
     "name": "stdout",
     "output_type": "stream",
     "text": [
      "There seems to be no relation for Churn and MonthlyCharges\n"
     ]
    },
    {
     "data": {
      "image/png": "[encoded data removed]",
      "text/plain": [
       "<Figure size 576x504 with 1 Axes>"
      ]
     },
     "metadata": {},
     "output_type": "display_data"
    }
   ],
   "source": [
    "# other variables\n",
    "\n",
    "from matplotlib.axes._axes import _log as matplotlib_axes_logger\n",
    "matplotlib_axes_logger.setLevel('ERROR')\n",
    "df_plot = df.groupby('MonthlyCharges').Churn.mean().reset_index()\n",
    "df_plot.plot.scatter(x='MonthlyCharges',y='Churn')\n",
    "plt.title('Churn rate by MonthlyCharges')\n",
    "\n",
    "print('There seems to be no relation for Churn and MonthlyCharges')\n",
    "\n"
   ]
  },
  {
   "cell_type": "code",
   "execution_count": 45,
   "metadata": {},
   "outputs": [
    {
     "name": "stdout",
     "output_type": "stream",
     "text": [
      "Monthly Charges seems to be roughly normal distribution\n"
     ]
    },
    {
     "data": {
      "image/png": "[encoded data removed]",
      "text/plain": [
       "<Figure size 576x504 with 1 Axes>"
      ]
     },
     "metadata": {},
     "output_type": "display_data"
    }
   ],
   "source": [
    "sns.distplot(df['MonthlyCharges'])\n",
    "print('Monthly Charges seems to be roughly normal distribution')"
   ]
  },
  {
   "cell_type": "code",
   "execution_count": 46,
   "metadata": {},
   "outputs": [
    {
     "name": "stdout",
     "output_type": "stream",
     "text": [
      "Tenure Distribution seems to be high at the ends so a portion of the customers have either had lowest and highest tenure periods\n"
     ]
    },
    {
     "data": {
      "image/png": "[encoded data removed]",
      "text/plain": [
       "<Figure size 576x504 with 1 Axes>"
      ]
     },
     "metadata": {},
     "output_type": "display_data"
    }
   ],
   "source": [
    "sns.distplot(df['tenure'])\n",
    "print('Tenure Distribution seems to be high at the ends so a portion of the customers have either had lowest and highest tenure periods')"
   ]
  },
  {
   "cell_type": "markdown",
   "metadata": {},
   "source": [
    "### Data Wrangling"
   ]
  },
  {
   "cell_type": "code",
   "execution_count": 47,
   "metadata": {},
   "outputs": [
    {
     "name": "stdout",
     "output_type": "stream",
     "text": [
      "<class 'pandas.core.frame.DataFrame'>\n",
      "RangeIndex: 7043 entries, 0 to 7042\n",
      "Data columns (total 21 columns):\n",
      " #   Column            Non-Null Count  Dtype  \n",
      "---  ------            --------------  -----  \n",
      " 0   customerID        7043 non-null   object \n",
      " 1   gender            7043 non-null   object \n",
      " 2   SeniorCitizen     7043 non-null   int64  \n",
      " 3   Partner           7043 non-null   object \n",
      " 4   Dependents        7043 non-null   object \n",
      " 5   tenure            7043 non-null   int64  \n",
      " 6   PhoneService      7043 non-null   object \n",
      " 7   MultipleLines     7043 non-null   object \n",
      " 8   InternetService   7043 non-null   object \n",
      " 9   OnlineSecurity    7043 non-null   object \n",
      " 10  OnlineBackup      7043 non-null   object \n",
      " 11  DeviceProtection  7043 non-null   object \n",
      " 12  TechSupport       7043 non-null   object \n",
      " 13  StreamingTV       7043 non-null   object \n",
      " 14  StreamingMovies   7043 non-null   object \n",
      " 15  Contract          7043 non-null   object \n",
      " 16  PaperlessBilling  7043 non-null   object \n",
      " 17  PaymentMethod     7043 non-null   object \n",
      " 18  MonthlyCharges    7043 non-null   float64\n",
      " 19  TotalCharges      7043 non-null   float64\n",
      " 20  Churn             7043 non-null   int32  \n",
      "dtypes: float64(2), int32(1), int64(2), object(16)\n",
      "memory usage: 1.1+ MB\n"
     ]
    }
   ],
   "source": [
    "df.info()"
   ]
  },
  {
   "cell_type": "code",
   "execution_count": 48,
   "metadata": {},
   "outputs": [
    {
     "name": "stdout",
     "output_type": "stream",
     "text": [
      "All Features:  ['customerID', 'gender', 'SeniorCitizen', 'Partner', 'Dependents', 'tenure', 'PhoneService', 'MultipleLines', 'InternetService', 'OnlineSecurity', 'OnlineBackup', 'DeviceProtection', 'TechSupport', 'StreamingTV', 'StreamingMovies', 'Contract', 'PaperlessBilling', 'PaymentMethod', 'MonthlyCharges', 'TotalCharges']\n",
      "\n",
      "Categorical Features:  ['gender', 'Partner', 'Dependents', 'PhoneService', 'MultipleLines', 'InternetService', 'OnlineSecurity', 'OnlineBackup', 'DeviceProtection', 'TechSupport', 'StreamingTV', 'StreamingMovies', 'Contract', 'PaperlessBilling', 'PaymentMethod']\n",
      "\n",
      "Continuous Features:  ['customerID', 'SeniorCitizen', 'tenure', 'MonthlyCharges', 'TotalCharges']\n",
      "\n",
      "All Categorical Columns:  ['customerID', 'gender', 'Partner', 'Dependents', 'PhoneService', 'MultipleLines', 'InternetService', 'OnlineSecurity', 'OnlineBackup', 'DeviceProtection', 'TechSupport', 'StreamingTV', 'StreamingMovies', 'Contract', 'PaperlessBilling', 'PaymentMethod']\n"
     ]
    }
   ],
   "source": [
    "columns_idx = np.s_[0:] # Slice of first row(header) with all columns.\n",
    "first_record_idx = np.s_[0] # Index of first record\n",
    "\n",
    "string_fields = [type(fld) is str for fld in df.iloc[first_record_idx, columns_idx]] # All string fields\n",
    "all_features = [x for x in df.columns if x != 'Churn']\n",
    "categorical_columns = list(np.array(df.columns)[columns_idx][string_fields])\n",
    "categorical_features = [x for x in categorical_columns if x != 'customerID']\n",
    "continuous_features = [x for x in all_features if x not in categorical_features]\n",
    "\n",
    "print('All Features: ', all_features)\n",
    "print('\\nCategorical Features: ', categorical_features)\n",
    "print('\\nContinuous Features: ', continuous_features)\n",
    "print('\\nAll Categorical Columns: ', categorical_columns)"
   ]
  },
  {
   "cell_type": "code",
   "execution_count": 49,
   "metadata": {},
   "outputs": [],
   "source": [
    "#import Label Encoder\n",
    "from sklearn.preprocessing import LabelEncoder\n",
    "le = LabelEncoder()\n",
    "dummy_columns = [] #array for multiple value columns\n",
    "\n",
    "for column in df.columns:\n",
    "    if df[column].dtype == object and column != 'customerID':\n",
    "        if df[column].nunique() == 2:\n",
    "            #apply Label Encoder for binary ones\n",
    "            df[column] = le.fit_transform(df[column]) \n",
    "        else:\n",
    "            dummy_columns.append(column)\n",
    "\n",
    "#apply get dummies for selected columns\n",
    "df_clean_data = pd.get_dummies(data = df,columns = dummy_columns)"
   ]
  },
  {
   "cell_type": "code",
   "execution_count": 50,
   "metadata": {},
   "outputs": [
    {
     "name": "stdout",
     "output_type": "stream",
     "text": [
      "<class 'pandas.core.frame.DataFrame'>\n",
      "RangeIndex: 7043 entries, 0 to 7042\n",
      "Data columns (total 42 columns):\n",
      " #   Column                                   Non-Null Count  Dtype  \n",
      "---  ------                                   --------------  -----  \n",
      " 0   customerID                               7043 non-null   object \n",
      " 1   gender                                   7043 non-null   int32  \n",
      " 2   SeniorCitizen                            7043 non-null   int64  \n",
      " 3   Partner                                  7043 non-null   int32  \n",
      " 4   Dependents                               7043 non-null   int32  \n",
      " 5   tenure                                   7043 non-null   int64  \n",
      " 6   PhoneService                             7043 non-null   int32  \n",
      " 7   PaperlessBilling                         7043 non-null   int32  \n",
      " 8   MonthlyCharges                           7043 non-null   float64\n",
      " 9   TotalCharges                             7043 non-null   float64\n",
      " 10  Churn                                    7043 non-null   int32  \n",
      " 11  MultipleLines_No                         7043 non-null   uint8  \n",
      " 12  MultipleLines_No phone service           7043 non-null   uint8  \n",
      " 13  MultipleLines_Yes                        7043 non-null   uint8  \n",
      " 14  InternetService_DSL                      7043 non-null   uint8  \n",
      " 15  InternetService_Fiber optic              7043 non-null   uint8  \n",
      " 16  InternetService_No                       7043 non-null   uint8  \n",
      " 17  OnlineSecurity_No                        7043 non-null   uint8  \n",
      " 18  OnlineSecurity_No internet service       7043 non-null   uint8  \n",
      " 19  OnlineSecurity_Yes                       7043 non-null   uint8  \n",
      " 20  OnlineBackup_No                          7043 non-null   uint8  \n",
      " 21  OnlineBackup_No internet service         7043 non-null   uint8  \n",
      " 22  OnlineBackup_Yes                         7043 non-null   uint8  \n",
      " 23  DeviceProtection_No                      7043 non-null   uint8  \n",
      " 24  DeviceProtection_No internet service     7043 non-null   uint8  \n",
      " 25  DeviceProtection_Yes                     7043 non-null   uint8  \n",
      " 26  TechSupport_No                           7043 non-null   uint8  \n",
      " 27  TechSupport_No internet service          7043 non-null   uint8  \n",
      " 28  TechSupport_Yes                          7043 non-null   uint8  \n",
      " 29  StreamingTV_No                           7043 non-null   uint8  \n",
      " 30  StreamingTV_No internet service          7043 non-null   uint8  \n",
      " 31  StreamingTV_Yes                          7043 non-null   uint8  \n",
      " 32  StreamingMovies_No                       7043 non-null   uint8  \n",
      " 33  StreamingMovies_No internet service      7043 non-null   uint8  \n",
      " 34  StreamingMovies_Yes                      7043 non-null   uint8  \n",
      " 35  Contract_Month-to-month                  7043 non-null   uint8  \n",
      " 36  Contract_One year                        7043 non-null   uint8  \n",
      " 37  Contract_Two year                        7043 non-null   uint8  \n",
      " 38  PaymentMethod_Bank transfer (automatic)  7043 non-null   uint8  \n",
      " 39  PaymentMethod_Credit card (automatic)    7043 non-null   uint8  \n",
      " 40  PaymentMethod_Electronic check           7043 non-null   uint8  \n",
      " 41  PaymentMethod_Mailed check               7043 non-null   uint8  \n",
      "dtypes: float64(2), int32(6), int64(2), object(1), uint8(31)\n",
      "memory usage: 653.5+ KB\n"
     ]
    }
   ],
   "source": [
    "df_clean_data.info()"
   ]
  },
  {
   "cell_type": "code",
   "execution_count": 51,
   "metadata": {},
   "outputs": [],
   "source": [
    "# Dropping varibles that are not neeeded and also target variables\n",
    "X = df_clean_data.drop(['Churn','customerID'], axis=1)\n",
    "\n",
    "# target variable\n",
    "y = df_clean_data['Churn']"
   ]
  },
  {
   "cell_type": "code",
   "execution_count": 52,
   "metadata": {},
   "outputs": [
    {
     "name": "stdout",
     "output_type": "stream",
     "text": [
      "<class 'pandas.core.frame.DataFrame'>\n",
      "RangeIndex: 7043 entries, 0 to 7042\n",
      "Data columns (total 42 columns):\n",
      " #   Column                                   Non-Null Count  Dtype  \n",
      "---  ------                                   --------------  -----  \n",
      " 0   customerID                               7043 non-null   object \n",
      " 1   gender                                   7043 non-null   int32  \n",
      " 2   SeniorCitizen                            7043 non-null   int64  \n",
      " 3   Partner                                  7043 non-null   int32  \n",
      " 4   Dependents                               7043 non-null   int32  \n",
      " 5   tenure                                   7043 non-null   int64  \n",
      " 6   PhoneService                             7043 non-null   int32  \n",
      " 7   PaperlessBilling                         7043 non-null   int32  \n",
      " 8   MonthlyCharges                           7043 non-null   float64\n",
      " 9   TotalCharges                             7043 non-null   float64\n",
      " 10  Churn                                    7043 non-null   int32  \n",
      " 11  MultipleLines_No                         7043 non-null   uint8  \n",
      " 12  MultipleLines_No phone service           7043 non-null   uint8  \n",
      " 13  MultipleLines_Yes                        7043 non-null   uint8  \n",
      " 14  InternetService_DSL                      7043 non-null   uint8  \n",
      " 15  InternetService_Fiber optic              7043 non-null   uint8  \n",
      " 16  InternetService_No                       7043 non-null   uint8  \n",
      " 17  OnlineSecurity_No                        7043 non-null   uint8  \n",
      " 18  OnlineSecurity_No internet service       7043 non-null   uint8  \n",
      " 19  OnlineSecurity_Yes                       7043 non-null   uint8  \n",
      " 20  OnlineBackup_No                          7043 non-null   uint8  \n",
      " 21  OnlineBackup_No internet service         7043 non-null   uint8  \n",
      " 22  OnlineBackup_Yes                         7043 non-null   uint8  \n",
      " 23  DeviceProtection_No                      7043 non-null   uint8  \n",
      " 24  DeviceProtection_No internet service     7043 non-null   uint8  \n",
      " 25  DeviceProtection_Yes                     7043 non-null   uint8  \n",
      " 26  TechSupport_No                           7043 non-null   uint8  \n",
      " 27  TechSupport_No internet service          7043 non-null   uint8  \n",
      " 28  TechSupport_Yes                          7043 non-null   uint8  \n",
      " 29  StreamingTV_No                           7043 non-null   uint8  \n",
      " 30  StreamingTV_No internet service          7043 non-null   uint8  \n",
      " 31  StreamingTV_Yes                          7043 non-null   uint8  \n",
      " 32  StreamingMovies_No                       7043 non-null   uint8  \n",
      " 33  StreamingMovies_No internet service      7043 non-null   uint8  \n",
      " 34  StreamingMovies_Yes                      7043 non-null   uint8  \n",
      " 35  Contract_Month-to-month                  7043 non-null   uint8  \n",
      " 36  Contract_One year                        7043 non-null   uint8  \n",
      " 37  Contract_Two year                        7043 non-null   uint8  \n",
      " 38  PaymentMethod_Bank transfer (automatic)  7043 non-null   uint8  \n",
      " 39  PaymentMethod_Credit card (automatic)    7043 non-null   uint8  \n",
      " 40  PaymentMethod_Electronic check           7043 non-null   uint8  \n",
      " 41  PaymentMethod_Mailed check               7043 non-null   uint8  \n",
      "dtypes: float64(2), int32(6), int64(2), object(1), uint8(31)\n",
      "memory usage: 653.5+ KB\n"
     ]
    },
    {
     "data": {
      "text/html": [
       "<div>\n",
       "<style scoped>\n",
       "    .dataframe tbody tr th:only-of-type {\n",
       "        vertical-align: middle;\n",
       "    }\n",
       "\n",
       "    .dataframe tbody tr th {\n",
       "        vertical-align: top;\n",
       "    }\n",
       "\n",
       "    .dataframe thead th {\n",
       "        text-align: right;\n",
       "    }\n",
       "</style>\n",
       "<table border=\"1\" class=\"dataframe\">\n",
       "  <thead>\n",
       "    <tr style=\"text-align: right;\">\n",
       "      <th></th>\n",
       "      <th>customerID</th>\n",
       "      <th>gender</th>\n",
       "      <th>SeniorCitizen</th>\n",
       "      <th>Partner</th>\n",
       "      <th>Dependents</th>\n",
       "      <th>tenure</th>\n",
       "      <th>PhoneService</th>\n",
       "      <th>PaperlessBilling</th>\n",
       "      <th>MonthlyCharges</th>\n",
       "      <th>TotalCharges</th>\n",
       "      <th>...</th>\n",
       "      <th>StreamingMovies_No</th>\n",
       "      <th>StreamingMovies_No internet service</th>\n",
       "      <th>StreamingMovies_Yes</th>\n",
       "      <th>Contract_Month-to-month</th>\n",
       "      <th>Contract_One year</th>\n",
       "      <th>Contract_Two year</th>\n",
       "      <th>PaymentMethod_Bank transfer (automatic)</th>\n",
       "      <th>PaymentMethod_Credit card (automatic)</th>\n",
       "      <th>PaymentMethod_Electronic check</th>\n",
       "      <th>PaymentMethod_Mailed check</th>\n",
       "    </tr>\n",
       "  </thead>\n",
       "  <tbody>\n",
       "    <tr>\n",
       "      <th>0</th>\n",
       "      <td>7590-VHVEG</td>\n",
       "      <td>0</td>\n",
       "      <td>0</td>\n",
       "      <td>1</td>\n",
       "      <td>0</td>\n",
       "      <td>1</td>\n",
       "      <td>0</td>\n",
       "      <td>1</td>\n",
       "      <td>29.85</td>\n",
       "      <td>29.85</td>\n",
       "      <td>...</td>\n",
       "      <td>1</td>\n",
       "      <td>0</td>\n",
       "      <td>0</td>\n",
       "      <td>1</td>\n",
       "      <td>0</td>\n",
       "      <td>0</td>\n",
       "      <td>0</td>\n",
       "      <td>0</td>\n",
       "      <td>1</td>\n",
       "      <td>0</td>\n",
       "    </tr>\n",
       "    <tr>\n",
       "      <th>1</th>\n",
       "      <td>5575-GNVDE</td>\n",
       "      <td>1</td>\n",
       "      <td>0</td>\n",
       "      <td>0</td>\n",
       "      <td>0</td>\n",
       "      <td>34</td>\n",
       "      <td>1</td>\n",
       "      <td>0</td>\n",
       "      <td>56.95</td>\n",
       "      <td>1889.50</td>\n",
       "      <td>...</td>\n",
       "      <td>1</td>\n",
       "      <td>0</td>\n",
       "      <td>0</td>\n",
       "      <td>0</td>\n",
       "      <td>1</td>\n",
       "      <td>0</td>\n",
       "      <td>0</td>\n",
       "      <td>0</td>\n",
       "      <td>0</td>\n",
       "      <td>1</td>\n",
       "    </tr>\n",
       "    <tr>\n",
       "      <th>2</th>\n",
       "      <td>3668-QPYBK</td>\n",
       "      <td>1</td>\n",
       "      <td>0</td>\n",
       "      <td>0</td>\n",
       "      <td>0</td>\n",
       "      <td>2</td>\n",
       "      <td>1</td>\n",
       "      <td>1</td>\n",
       "      <td>53.85</td>\n",
       "      <td>108.15</td>\n",
       "      <td>...</td>\n",
       "      <td>1</td>\n",
       "      <td>0</td>\n",
       "      <td>0</td>\n",
       "      <td>1</td>\n",
       "      <td>0</td>\n",
       "      <td>0</td>\n",
       "      <td>0</td>\n",
       "      <td>0</td>\n",
       "      <td>0</td>\n",
       "      <td>1</td>\n",
       "    </tr>\n",
       "    <tr>\n",
       "      <th>3</th>\n",
       "      <td>7795-CFOCW</td>\n",
       "      <td>1</td>\n",
       "      <td>0</td>\n",
       "      <td>0</td>\n",
       "      <td>0</td>\n",
       "      <td>45</td>\n",
       "      <td>0</td>\n",
       "      <td>0</td>\n",
       "      <td>42.30</td>\n",
       "      <td>1840.75</td>\n",
       "      <td>...</td>\n",
       "      <td>1</td>\n",
       "      <td>0</td>\n",
       "      <td>0</td>\n",
       "      <td>0</td>\n",
       "      <td>1</td>\n",
       "      <td>0</td>\n",
       "      <td>1</td>\n",
       "      <td>0</td>\n",
       "      <td>0</td>\n",
       "      <td>0</td>\n",
       "    </tr>\n",
       "    <tr>\n",
       "      <th>4</th>\n",
       "      <td>9237-HQITU</td>\n",
       "      <td>0</td>\n",
       "      <td>0</td>\n",
       "      <td>0</td>\n",
       "      <td>0</td>\n",
       "      <td>2</td>\n",
       "      <td>1</td>\n",
       "      <td>1</td>\n",
       "      <td>70.70</td>\n",
       "      <td>151.65</td>\n",
       "      <td>...</td>\n",
       "      <td>1</td>\n",
       "      <td>0</td>\n",
       "      <td>0</td>\n",
       "      <td>1</td>\n",
       "      <td>0</td>\n",
       "      <td>0</td>\n",
       "      <td>0</td>\n",
       "      <td>0</td>\n",
       "      <td>1</td>\n",
       "      <td>0</td>\n",
       "    </tr>\n",
       "  </tbody>\n",
       "</table>\n",
       "<p>5 rows × 42 columns</p>\n",
       "</div>"
      ],
      "text/plain": [
       "   customerID  gender  SeniorCitizen  Partner  Dependents  tenure  \\\n",
       "0  7590-VHVEG       0              0        1           0       1   \n",
       "1  5575-GNVDE       1              0        0           0      34   \n",
       "2  3668-QPYBK       1              0        0           0       2   \n",
       "3  7795-CFOCW       1              0        0           0      45   \n",
       "4  9237-HQITU       0              0        0           0       2   \n",
       "\n",
       "   PhoneService  PaperlessBilling  MonthlyCharges  TotalCharges  ...  \\\n",
       "0             0                 1           29.85         29.85  ...   \n",
       "1             1                 0           56.95       1889.50  ...   \n",
       "2             1                 1           53.85        108.15  ...   \n",
       "3             0                 0           42.30       1840.75  ...   \n",
       "4             1                 1           70.70        151.65  ...   \n",
       "\n",
       "   StreamingMovies_No  StreamingMovies_No internet service  \\\n",
       "0                   1                                    0   \n",
       "1                   1                                    0   \n",
       "2                   1                                    0   \n",
       "3                   1                                    0   \n",
       "4                   1                                    0   \n",
       "\n",
       "   StreamingMovies_Yes  Contract_Month-to-month  Contract_One year  \\\n",
       "0                    0                        1                  0   \n",
       "1                    0                        0                  1   \n",
       "2                    0                        1                  0   \n",
       "3                    0                        0                  1   \n",
       "4                    0                        1                  0   \n",
       "\n",
       "   Contract_Two year  PaymentMethod_Bank transfer (automatic)  \\\n",
       "0                  0                                        0   \n",
       "1                  0                                        0   \n",
       "2                  0                                        0   \n",
       "3                  0                                        1   \n",
       "4                  0                                        0   \n",
       "\n",
       "   PaymentMethod_Credit card (automatic)  PaymentMethod_Electronic check  \\\n",
       "0                                      0                               1   \n",
       "1                                      0                               0   \n",
       "2                                      0                               0   \n",
       "3                                      0                               0   \n",
       "4                                      0                               1   \n",
       "\n",
       "   PaymentMethod_Mailed check  \n",
       "0                           0  \n",
       "1                           1  \n",
       "2                           1  \n",
       "3                           0  \n",
       "4                           0  \n",
       "\n",
       "[5 rows x 42 columns]"
      ]
     },
     "execution_count": 52,
     "metadata": {},
     "output_type": "execute_result"
    }
   ],
   "source": [
    "df_clean_data.info()\n",
    "df_clean_data.head()"
   ]
  },
  {
   "cell_type": "markdown",
   "metadata": {},
   "source": [
    "#### Split the data into Train and Test datasets\n",
    "Train on one set and test and measure on the test set."
   ]
  },
  {
   "cell_type": "code",
   "execution_count": 53,
   "metadata": {},
   "outputs": [],
   "source": [
    "from sklearn.model_selection import train_test_split\n",
    "X_train, X_test, y_train, y_test = train_test_split(X, y, \n",
    "                                                    test_size=0.3, \n",
    "                                                    random_state=123, \n",
    "                                                    stratify=y)"
   ]
  },
  {
   "cell_type": "markdown",
   "metadata": {},
   "source": [
    "Realized that the data set is facing a class imbalance so apply Under Sampling technique to standardized the dataset."
   ]
  },
  {
   "cell_type": "code",
   "execution_count": 120,
   "metadata": {},
   "outputs": [],
   "source": [
    "# import the StandardScaler\n",
    "from sklearn.preprocessing import StandardScaler\n",
    "\n",
    "# initiate a StandardScaler and fit to training feature set.\n",
    "scaler = StandardScaler().fit(X_train)\n",
    "\n",
    "# Scale the training data using transform\n",
    "X_train = scaler.transform(X_train)\n",
    "\n",
    "from imblearn.under_sampling import RandomUnderSampler\n",
    "\n",
    "# initiante a random under sampler\n",
    "rus = RandomUnderSampler()\n",
    "\n",
    "# Store in new random undersampled variables\n",
    "X_train_rus, y_train_rus = rus.fit_sample(X_train, y_train)"
   ]
  },
  {
   "cell_type": "markdown",
   "metadata": {},
   "source": [
    "### Machine Learning Modelling"
   ]
  },
  {
   "cell_type": "markdown",
   "metadata": {},
   "source": [
    "Now the data has been pre-processed by various transformations, label encoding and standarizing the data. We are ready to begin the model phase where we focus on trying to evaluate various machine learning classification modelling techiniques, fitting these models to the train feature set and evaluating the performance on the prediction the reserved test set. Since we are going to be evaluating various technqiue and trying to tune these models will require us to use a metric that can be used across various model outcome to determine the best model to select. For this customer churn problem, I think the recall metric will suite the best as we want to reduce the number of false negatives. In this case it might be okay to have false positives as if a non-churning customer is classified and a churn customer, the company would not have incurred loss, while the opposite might come with a huge impact to the company and incurr losses."
   ]
  },
  {
   "cell_type": "markdown",
   "metadata": {},
   "source": [
    "I've found a better techiqnue evaluate various classification models using Cross Validation technique"
   ]
  },
  {
   "cell_type": "code",
   "execution_count": 141,
   "metadata": {},
   "outputs": [],
   "source": [
    "from sklearn.linear_model import LogisticRegression\n",
    "from sklearn.metrics import precision_score, recall_score\n",
    "from sklearn import tree\n",
    "from sklearn.metrics import accuracy_score\n",
    "from sklearn import metrics\n",
    "from sklearn.tree import DecisionTreeClassifier\n",
    "from sklearn.metrics import accuracy_score\n",
    "from sklearn import metrics\n",
    "from sklearn.ensemble import RandomForestClassifier\n",
    "import xgboost as xgb\n",
    "from xgboost import XGBClassifier, plot_importance\n",
    "from matplotlib import pyplot\n",
    "from sklearn.model_selection import cross_validate\n",
    "from sklearn.model_selection import GridSearchCV\n",
    "from sklearn.metrics import classification_report"
   ]
  },
  {
   "cell_type": "markdown",
   "metadata": {},
   "source": [
    "In the most machine learning pipelines I have used the standard test train split and in this Cross validation method it splits the training features (X_train_rus) into 5 folds (I choose the default) there by using training data better to predict and score the models based on the recall classfication metric we've choosen."
   ]
  },
  {
   "cell_type": "code",
   "execution_count": 133,
   "metadata": {},
   "outputs": [],
   "source": [
    "lr = LogisticRegression()\n",
    "drc = DecisionTreeClassifier()\n",
    "rfc = RandomForestClassifier()\n",
    "xgb = XGBClassifier()\n",
    "\n",
    "model = []\n",
    "cross_val = []\n",
    "recall = []\n",
    "\n",
    "for i in (lr, drc, rfc, xgb):\n",
    "    model.append(i.__class__.__name__)\n",
    "    cross_val.append(cross_validate(i, X_train_rus, y_train_rus,cv=5, scoring='recall'))\n",
    "    \n",
    "for d in range(len(cross_val)):\n",
    "    recall.append(cross_val[d]['test_score'].mean())"
   ]
  },
  {
   "cell_type": "code",
   "execution_count": 134,
   "metadata": {},
   "outputs": [
    {
     "data": {
      "text/html": [
       "<div>\n",
       "<style scoped>\n",
       "    .dataframe tbody tr th:only-of-type {\n",
       "        vertical-align: middle;\n",
       "    }\n",
       "\n",
       "    .dataframe tbody tr th {\n",
       "        vertical-align: top;\n",
       "    }\n",
       "\n",
       "    .dataframe thead th {\n",
       "        text-align: right;\n",
       "    }\n",
       "</style>\n",
       "<table border=\"1\" class=\"dataframe\">\n",
       "  <thead>\n",
       "    <tr style=\"text-align: right;\">\n",
       "      <th></th>\n",
       "      <th>Recall</th>\n",
       "    </tr>\n",
       "  </thead>\n",
       "  <tbody>\n",
       "    <tr>\n",
       "      <th>LogisticRegression</th>\n",
       "      <td>0.804276</td>\n",
       "    </tr>\n",
       "    <tr>\n",
       "      <th>DecisionTreeClassifier</th>\n",
       "      <td>0.680451</td>\n",
       "    </tr>\n",
       "    <tr>\n",
       "      <th>RandomForestClassifier</th>\n",
       "      <td>0.739285</td>\n",
       "    </tr>\n",
       "    <tr>\n",
       "      <th>XGBClassifier</th>\n",
       "      <td>0.756126</td>\n",
       "    </tr>\n",
       "  </tbody>\n",
       "</table>\n",
       "</div>"
      ],
      "text/plain": [
       "                          Recall\n",
       "LogisticRegression      0.804276\n",
       "DecisionTreeClassifier  0.680451\n",
       "RandomForestClassifier  0.739285\n",
       "XGBClassifier           0.756126"
      ]
     },
     "execution_count": 134,
     "metadata": {},
     "output_type": "execute_result"
    }
   ],
   "source": [
    "model_recall = pd.DataFrame\n",
    "pd.DataFrame(data=recall, index=model, columns=['Recall'])"
   ]
  },
  {
   "cell_type": "markdown",
   "metadata": {},
   "source": [
    "The Logistic Regression modelling seems to have a better recall compared to the next better modelling techqniue which is the xgBoost."
   ]
  },
  {
   "cell_type": "markdown",
   "metadata": {},
   "source": [
    "### Tuning Hyper-parameters"
   ]
  },
  {
   "cell_type": "code",
   "execution_count": 135,
   "metadata": {},
   "outputs": [
    {
     "name": "stdout",
     "output_type": "stream",
     "text": [
      "Best result: 0.8700096516627183 for {'C': 0.0001, 'solver': 'liblinear'}\n"
     ]
    }
   ],
   "source": [
    "# Logistic Regression\n",
    "# parameters to be searched\n",
    "param_grid = {'solver': ['newton-cg', 'lbfgs', 'liblinear'],\n",
    "              'C': [0.0001, 0.001, 0.01, 0.1, 1, 10, 100]}\n",
    "\n",
    "# find the best parameters\n",
    "grid_search = GridSearchCV(lr, param_grid, scoring='recall')\n",
    "grid_result = grid_search.fit(X_train_rus, y_train_rus)\n",
    "\n",
    "print(f'Best result: {grid_result.best_score_} for {grid_result.best_params_}')"
   ]
  },
  {
   "cell_type": "markdown",
   "metadata": {},
   "source": [
    "#### Logistric regression model\n",
    "\n",
    " This type of statistical classification modelling is commonly used for predicting binary variables. It modeles the log odds of the probability of the target variable."
   ]
  },
  {
   "cell_type": "code",
   "execution_count": 121,
   "metadata": {},
   "outputs": [
    {
     "name": "stdout",
     "output_type": "stream",
     "text": [
      "Train accuracy: 0.7638\n",
      "Test accuracy: 0.2655\n",
      "\n",
      "\n",
      "Training precision: 0.7436\n",
      "Training recall: 0.805\n",
      "\n",
      "\n",
      "Test precision: 0.2655\n",
      "Test recall: 1.0\n"
     ]
    }
   ],
   "source": [
    "#import Logistic regression model\n",
    "#from sklearn.linear_model import LogisticRegression\n",
    "#from sklearn.metrics import precision_score, recall_score\n",
    "\n",
    "#Initialize the log reg model instance\n",
    "lr = LogisticRegression()\n",
    "\n",
    "# fit the training data\n",
    "lr.fit(X_train, y_train)\n",
    "\n",
    "# Measureing the model accuracy\n",
    "y_pred_train = lr.predict(X_train)\n",
    "y_pred_test = lr.predict(X_test)\n",
    "\n",
    "train_acc = accuracy_score(y_train, y_pred_train)\n",
    "test_acc = accuracy_score(y_test, y_pred_test)\n",
    "\n",
    "print('Train accuracy:', round(train_acc, 4))\n",
    "print('Test accuracy:', round(test_acc, 4))\n",
    "print('\\n')\n",
    "\n",
    "train_prec = round(precision_score(y_train,y_pred_train),4)\n",
    "test_prec = round(precision_score(y_test,y_pred_test),4)\n",
    "\n",
    "train_rec = round(recall_score(y_train,y_pred_train),4)\n",
    "test_rec = round(recall_score(y_test,y_pred_test),4)\n",
    "\n",
    "print('Training precision: {}'.format(train_prec))\n",
    "print('Training recall: {}'.format(train_rec))\n",
    "print('\\n')\n",
    "print('Test precision: {}'.format(test_prec))\n",
    "print('Test recall: {}'.format(test_rec))\n"
   ]
  },
  {
   "cell_type": "markdown",
   "metadata": {},
   "source": [
    "#### Model performance metrics\n",
    "\n",
    "Accuracy = Pct of correctly classified predictions (i.e, churn and non-churn) <br>\n",
    "Precision = Pct of total positive class predictions that were correctly classfied<br>\n",
    "Recall = Pct of total positive class samples that were correctly classfied"
   ]
  },
  {
   "cell_type": "markdown",
   "metadata": {},
   "source": [
    "#### Decision Tree\n"
   ]
  },
  {
   "cell_type": "code",
   "execution_count": 88,
   "metadata": {},
   "outputs": [
    {
     "name": "stdout",
     "output_type": "stream",
     "text": [
      "Test set accuracy: 0.72\n",
      "Train accuracy: 0.8065\n",
      "Test accuracy: 0.7937\n",
      "\n",
      "\n",
      "Training precision: 0.6547\n",
      "Training recall: 0.5726\n",
      "\n",
      "\n",
      "Test precision: 0.6299\n",
      "Test recall: 0.5401\n",
      "model is precise with training but fails to identify more than half of customers\n"
     ]
    }
   ],
   "source": [
    "#from sklearn.tree import DecisionTreeClassifier\n",
    "#from sklearn.metrics import accuracy_score\n",
    "# # Instantiate a DecisionTreeClassifier 'dt' with a maximum depth of 6\n",
    "dt = DecisionTreeClassifier(criterion ='gini', max_depth=5, random_state=1)\n",
    "\n",
    "# Fit dt to the training set\n",
    "dt.fit(X_train,y_train)\n",
    "\n",
    "# Predict test set labels\n",
    "y_pred_dt_train = dt.predict(X_train)\n",
    "y_pred_dt_test = dt.predict(X_test)\n",
    "\n",
    "# Compute test set accuracy  \n",
    "acc = accuracy_score(y_test, y_pred)\n",
    "print(\"Test set accuracy: {:.2f}\".format(acc))\n",
    "\n",
    "train_acc_dt = accuracy_score(y_train, y_pred_dt_train)\n",
    "test_acc_dt = accuracy_score(y_test, y_pred_dt_test)\n",
    "\n",
    "print('Train accuracy:', round(train_acc_dt, 4))\n",
    "print('Test accuracy:', round(test_acc_dt, 4))\n",
    "print('\\n')\n",
    "\n",
    "train_prec_dt = round(precision_score(y_train,y_pred_dt_train),4)\n",
    "test_prec_dt = round(precision_score(y_test,y_pred_dt_test),4)\n",
    "\n",
    "train_rec_dt = round(recall_score(y_train,y_pred_dt_train),4)\n",
    "test_rec_dt = round(recall_score(y_test,y_pred_dt_test),4)\n",
    "\n",
    "print('Training precision: {}'.format(train_prec_dt))\n",
    "print('Training recall: {}'.format(train_rec_dt))\n",
    "print('\\n')\n",
    "print('Test precision: {}'.format(test_prec_dt))\n",
    "print('Test recall: {}'.format(test_rec_dt))\n",
    "\n",
    "print('model is precise with training but fails to identify more than half of customers')"
   ]
  },
  {
   "cell_type": "markdown",
   "metadata": {},
   "source": [
    "### Random Forest"
   ]
  },
  {
   "cell_type": "code",
   "execution_count": 99,
   "metadata": {},
   "outputs": [
    {
     "name": "stdout",
     "output_type": "stream",
     "text": [
      "F1 Score (test):0.5214446952595937\n",
      "              precision    recall  f1-score   support\n",
      "\n",
      "           0       0.82      0.94      0.87      1552\n",
      "           1       0.71      0.41      0.52       561\n",
      "\n",
      "    accuracy                           0.80      2113\n",
      "   macro avg       0.76      0.68      0.70      2113\n",
      "weighted avg       0.79      0.80      0.78      2113\n",
      "\n",
      "Training precision: 0.7074\n",
      "Training recall: 0.4381\n",
      "\n",
      "\n",
      "Test precision: 0.7108\n",
      "Test recall: 0.4118\n",
      "\n",
      "\n",
      "(0.15058286939157908, 'Contract_Month-to-month')\n",
      "(0.11565808643544379, 'OnlineSecurity_No')\n",
      "(0.10440696998415662, 'tenure')\n",
      "(0.09329871403009848, 'TotalCharges')\n",
      "(0.09320305238276173, 'Contract_Two year')\n",
      "(0.07074792371457395, 'InternetService_Fiber optic')\n",
      "(0.06566134556255863, 'TechSupport_No')\n",
      "(0.04397300879679095, 'MonthlyCharges')\n",
      "(0.038055064198746276, 'PaymentMethod_Electronic check')\n",
      "(0.028850762150499986, 'Contract_One year')\n",
      "(0.02648820060779119, 'InternetService_DSL')\n",
      "(0.025833478725521313, 'OnlineBackup_No')\n",
      "(0.016553439554369668, 'DeviceProtection_No internet service')\n",
      "(0.01614035631359551, 'StreamingTV_No internet service')\n",
      "(0.014528082212398825, 'OnlineSecurity_Yes')\n",
      "(0.013855363594028986, 'DeviceProtection_No')\n",
      "(0.013540331206791536, 'OnlineSecurity_No internet service')\n",
      "(0.011725964623502966, 'TechSupport_Yes')\n",
      "(0.010730779447273518, 'StreamingMovies_No internet service')\n",
      "(0.006614289860256588, 'InternetService_No')\n",
      "(0.00572797471851626, 'Partner')\n",
      "(0.003839943566636481, 'OnlineBackup_Yes')\n",
      "(0.0036129055061664022, 'PaperlessBilling')\n",
      "(0.0030218098288107742, 'SeniorCitizen')\n",
      "(0.0029116434240740985, 'MultipleLines_Yes')\n",
      "(0.0023116111000250146, 'StreamingMovies_No')\n",
      "(0.002233388083100539, 'StreamingMovies_Yes')\n",
      "(0.0021584168913548678, 'OnlineBackup_No internet service')\n",
      "(0.0018310343085773248, 'DeviceProtection_Yes')\n",
      "(0.0017874294116285154, 'StreamingTV_Yes')\n",
      "(0.0016404158449330923, 'PaymentMethod_Mailed check')\n",
      "(0.0015844988905799023, 'Dependents')\n",
      "(0.0015189755886303802, 'PaymentMethod_Bank transfer (automatic)')\n",
      "(0.0015178929908182643, 'PaymentMethod_Credit card (automatic)')\n",
      "(0.0010655347354732885, 'PhoneService')\n",
      "(0.0007443556161977269, 'MultipleLines_No')\n",
      "(0.0007152617445081044, 'MultipleLines_No phone service')\n",
      "(0.0007090835108982999, 'gender')\n",
      "(0.0003605669824836946, 'StreamingTV_No')\n",
      "(0.0002591744638473517, 'TechSupport_No internet service')\n",
      "\n",
      "\n"
     ]
    }
   ],
   "source": [
    "#from sklearn import metrics\n",
    "#from sklearn.ensemble import RandomForestClassifier\n",
    "\n",
    "# Start an instance of RandomForestClassifier\n",
    "RF = RandomForestClassifier(n_estimators = 50, criterion = 'entropy', min_samples_split = 285)\n",
    "\n",
    "# fit the model to trainig data\n",
    "RF.fit(X_train, y_train)\n",
    "\n",
    "# predict the labels\n",
    "y_pred_rf_train = RF.predict(X_train)\n",
    "y_pred_rf_test = RF.predict(X_test)\n",
    "\n",
    "f1_rf = metrics.f1_score(y_pred_rf_test, y_test)\n",
    "\n",
    "print(\"F1 Score (test):\"+str(f1_rf))\n",
    "\n",
    "metrics.classification_report(y_test, y_pred_rf_test)\n",
    "\n",
    "print(metrics.classification_report(y_test, y_pred_rf_test))\n",
    "\n",
    "train_prec_rf = round(precision_score(y_train,y_pred_rf_train),4)\n",
    "test_prec_rf = round(precision_score(y_test,y_pred_rf_test),4)\n",
    "\n",
    "train_rec_rf = round(recall_score(y_train,y_pred_rf_train),4)\n",
    "test_rec_rf = round(recall_score(y_test,y_pred_rf_test),4)\n",
    "\n",
    "print('Training precision: {}'.format(train_prec_rf))\n",
    "print('Training recall: {}'.format(train_rec_rf))\n",
    "print('\\n')\n",
    "print('Test precision: {}'.format(test_prec_rf))\n",
    "print('Test recall: {}'.format(test_rec_rf))\n",
    "\n",
    "print(\"\\n\")\n",
    "\n",
    "importance = zip(RF.feature_importances_, X)\n",
    "\n",
    "for rank in sorted(importance, key = lambda x: x[0], reverse = True):\n",
    "    print(rank)\n",
    "    \n",
    "print(\"\\n\")"
   ]
  },
  {
   "cell_type": "markdown",
   "metadata": {},
   "source": [
    "### Extreme Gradient Boosting (xGB)"
   ]
  },
  {
   "cell_type": "code",
   "execution_count": 109,
   "metadata": {},
   "outputs": [
    {
     "name": "stdout",
     "output_type": "stream",
     "text": [
      "accuracy: 0.803124\n",
      "F1 Score:0.5763747454175152\n",
      "              precision    recall  f1-score   support\n",
      "\n",
      "           0       0.84      0.91      0.87      1552\n",
      "           1       0.67      0.50      0.58       561\n",
      "\n",
      "    accuracy                           0.80      2113\n",
      "   macro avg       0.75      0.71      0.72      2113\n",
      "weighted avg       0.79      0.80      0.79      2113\n",
      "\n",
      "\n",
      "\n",
      "Training precision: 0.695\n",
      "Training recall: 0.5627\n",
      "\n",
      "\n",
      "Test precision: 0.6722\n",
      "Test recall: 0.5045\n",
      "\n",
      "\n",
      "(0.47182062, 'Contract_Month-to-month')\n",
      "(0.13212639, 'InternetService_Fiber optic')\n",
      "(0.06621624, 'InternetService_DSL')\n",
      "(0.048428386, 'tenure')\n",
      "(0.044380188, 'OnlineSecurity_No')\n",
      "(0.038071003, 'TechSupport_No')\n",
      "(0.016612278, 'TotalCharges')\n",
      "(0.014647642, 'MultipleLines_Yes')\n",
      "(0.013603278, 'MultipleLines_No phone service')\n",
      "(0.012875929, 'OnlineBackup_No')\n",
      "(0.011087111, 'MonthlyCharges')\n",
      "(0.009676405, 'PhoneService')\n",
      "(0.009507693, 'StreamingMovies_Yes')\n",
      "(0.009485692, 'PaymentMethod_Electronic check')\n",
      "(0.008081857, 'SeniorCitizen')\n",
      "(0.0080476785, 'Contract_One year')\n",
      "(0.008031217, 'StreamingMovies_No')\n",
      "(0.007920006, 'StreamingTV_No')\n",
      "(0.007885041, 'PaperlessBilling')\n",
      "(0.0070497026, 'MultipleLines_No')\n",
      "(0.0068282643, 'StreamingTV_Yes')\n",
      "(0.006308973, 'OnlineSecurity_Yes')\n",
      "(0.0060223374, 'PaymentMethod_Bank transfer (automatic)')\n",
      "(0.006020591, 'PaymentMethod_Mailed check')\n",
      "(0.0057767658, 'Dependents')\n",
      "(0.005743162, 'PaymentMethod_Credit card (automatic)')\n",
      "(0.0042406674, 'gender')\n",
      "(0.003653653, 'Partner')\n",
      "(0.0030637432, 'Contract_Two year')\n",
      "(0.0027642003, 'DeviceProtection_No')\n",
      "(0.0023946583, 'InternetService_No')\n",
      "(0.0016285601, 'OnlineBackup_Yes')\n",
      "(0.0, 'OnlineSecurity_No internet service')\n",
      "(0.0, 'OnlineBackup_No internet service')\n",
      "(0.0, 'DeviceProtection_No internet service')\n",
      "(0.0, 'DeviceProtection_Yes')\n",
      "(0.0, 'TechSupport_No internet service')\n",
      "(0.0, 'TechSupport_Yes')\n",
      "(0.0, 'StreamingTV_No internet service')\n",
      "(0.0, 'StreamingMovies_No internet service')\n"
     ]
    }
   ],
   "source": [
    "#import xgboost as xgb\n",
    "#from matplotlib import pyplot\n",
    "\n",
    "# instansitate xbg classifier\n",
    "xg_cl = xgb.XGBRFClassifier(objective='binary:logistic', n_estimators=10,seed=123)\n",
    "\n",
    "# Fit on train\n",
    "xg_cl.fit(X_train, y_train)\n",
    "\n",
    "#Predict on Test\n",
    "y_pred_xgb_train = xg_cl.predict(X_train)\n",
    "y_pred_xgb_test = xg_cl.predict(X_test)\n",
    "\n",
    "#Accuracy Scores\n",
    "accuracy_xgb = float(np.sum(y_pred_xgb_test==y_test))/y_test.shape[0]\n",
    "\n",
    "print('accuracy: %f' % (accuracy_xgb))\n",
    "\n",
    "f1_xgb = metrics.f1_score(y_pred_xgb_test, y_test)\n",
    "\n",
    "print(\"F1 Score:\"+str(f1_xgb))\n",
    "\n",
    "metrics.classification_report(y_test, y_pred_xgb_test)\n",
    "\n",
    "print(metrics.classification_report(y_test, y_pred_xgb_test))\n",
    "\n",
    "print(\"\\n\")\n",
    "\n",
    "train_prec_xgb = round(precision_score(y_train,y_pred_xgb_train),4)\n",
    "test_prec_xgb = round(precision_score(y_test,y_pred_xgb_test),4)\n",
    "\n",
    "train_rec_xgb = round(recall_score(y_train,y_pred_xgb_train),4)\n",
    "test_rec_xgb = round(recall_score(y_test,y_pred_xgb_test),4)\n",
    "\n",
    "print('Training precision: {}'.format(train_prec_xgb))\n",
    "print('Training recall: {}'.format(train_rec_xgb))\n",
    "print('\\n')\n",
    "print('Test precision: {}'.format(test_prec_xgb))\n",
    "print('Test recall: {}'.format(test_rec_xgb))\n",
    "\n",
    "print(\"\\n\")\n",
    "\n",
    "\n",
    "importance = zip(xg_cl.feature_importances_, X)\n",
    "\n",
    "for rank in sorted(importance, key = lambda x: x[0], reverse = True):\n",
    "    print(rank)"
   ]
  },
  {
   "cell_type": "code",
   "execution_count": 101,
   "metadata": {},
   "outputs": [
    {
     "data": {
      "text/plain": [
       "<matplotlib.axes._subplots.AxesSubplot at 0x1d86e732c70>"
      ]
     },
     "execution_count": 101,
     "metadata": {},
     "output_type": "execute_result"
    },
    {
     "data": {
      "image/png": "[encoded data removed]",
      "text/plain": [
       "<Figure size 720x576 with 1 Axes>"
      ]
     },
     "metadata": {},
     "output_type": "display_data"
    }
   ],
   "source": [
    "from xgboost import plot_importance\n",
    "\n",
    "fig, ax = plt.subplots(figsize=(10,8))\n",
    "plot_importance(xg_cl, ax=ax)"
   ]
  },
  {
   "cell_type": "code",
   "execution_count": 110,
   "metadata": {},
   "outputs": [],
   "source": [
    "df_clean_data['proba'] = xg_cl.predict_proba(df_clean_data[X_train.columns])[:,1]\n",
    "y_pred_prob = xg_cl.predict_proba(X_test)[:,1]"
   ]
  },
  {
   "cell_type": "code",
   "execution_count": 111,
   "metadata": {},
   "outputs": [
    {
     "data": {
      "text/html": [
       "<div>\n",
       "<style scoped>\n",
       "    .dataframe tbody tr th:only-of-type {\n",
       "        vertical-align: middle;\n",
       "    }\n",
       "\n",
       "    .dataframe tbody tr th {\n",
       "        vertical-align: top;\n",
       "    }\n",
       "\n",
       "    .dataframe thead th {\n",
       "        text-align: right;\n",
       "    }\n",
       "</style>\n",
       "<table border=\"1\" class=\"dataframe\">\n",
       "  <thead>\n",
       "    <tr style=\"text-align: right;\">\n",
       "      <th></th>\n",
       "      <th>customerID</th>\n",
       "      <th>gender</th>\n",
       "      <th>SeniorCitizen</th>\n",
       "      <th>Partner</th>\n",
       "      <th>Dependents</th>\n",
       "      <th>tenure</th>\n",
       "      <th>PhoneService</th>\n",
       "      <th>PaperlessBilling</th>\n",
       "      <th>MonthlyCharges</th>\n",
       "      <th>TotalCharges</th>\n",
       "      <th>...</th>\n",
       "      <th>StreamingMovies_No internet service</th>\n",
       "      <th>StreamingMovies_Yes</th>\n",
       "      <th>Contract_Month-to-month</th>\n",
       "      <th>Contract_One year</th>\n",
       "      <th>Contract_Two year</th>\n",
       "      <th>PaymentMethod_Bank transfer (automatic)</th>\n",
       "      <th>PaymentMethod_Credit card (automatic)</th>\n",
       "      <th>PaymentMethod_Electronic check</th>\n",
       "      <th>PaymentMethod_Mailed check</th>\n",
       "      <th>proba</th>\n",
       "    </tr>\n",
       "  </thead>\n",
       "  <tbody>\n",
       "    <tr>\n",
       "      <th>0</th>\n",
       "      <td>7590-VHVEG</td>\n",
       "      <td>0</td>\n",
       "      <td>0</td>\n",
       "      <td>1</td>\n",
       "      <td>0</td>\n",
       "      <td>1</td>\n",
       "      <td>0</td>\n",
       "      <td>1</td>\n",
       "      <td>29.85</td>\n",
       "      <td>29.85</td>\n",
       "      <td>...</td>\n",
       "      <td>0</td>\n",
       "      <td>0</td>\n",
       "      <td>1</td>\n",
       "      <td>0</td>\n",
       "      <td>0</td>\n",
       "      <td>0</td>\n",
       "      <td>0</td>\n",
       "      <td>1</td>\n",
       "      <td>0</td>\n",
       "      <td>0.540049</td>\n",
       "    </tr>\n",
       "    <tr>\n",
       "      <th>1</th>\n",
       "      <td>5575-GNVDE</td>\n",
       "      <td>1</td>\n",
       "      <td>0</td>\n",
       "      <td>0</td>\n",
       "      <td>0</td>\n",
       "      <td>34</td>\n",
       "      <td>1</td>\n",
       "      <td>0</td>\n",
       "      <td>56.95</td>\n",
       "      <td>1889.50</td>\n",
       "      <td>...</td>\n",
       "      <td>0</td>\n",
       "      <td>0</td>\n",
       "      <td>0</td>\n",
       "      <td>1</td>\n",
       "      <td>0</td>\n",
       "      <td>0</td>\n",
       "      <td>0</td>\n",
       "      <td>0</td>\n",
       "      <td>1</td>\n",
       "      <td>0.128942</td>\n",
       "    </tr>\n",
       "    <tr>\n",
       "      <th>2</th>\n",
       "      <td>3668-QPYBK</td>\n",
       "      <td>1</td>\n",
       "      <td>0</td>\n",
       "      <td>0</td>\n",
       "      <td>0</td>\n",
       "      <td>2</td>\n",
       "      <td>1</td>\n",
       "      <td>1</td>\n",
       "      <td>53.85</td>\n",
       "      <td>108.15</td>\n",
       "      <td>...</td>\n",
       "      <td>0</td>\n",
       "      <td>0</td>\n",
       "      <td>1</td>\n",
       "      <td>0</td>\n",
       "      <td>0</td>\n",
       "      <td>0</td>\n",
       "      <td>0</td>\n",
       "      <td>0</td>\n",
       "      <td>1</td>\n",
       "      <td>0.330419</td>\n",
       "    </tr>\n",
       "    <tr>\n",
       "      <th>3</th>\n",
       "      <td>7795-CFOCW</td>\n",
       "      <td>1</td>\n",
       "      <td>0</td>\n",
       "      <td>0</td>\n",
       "      <td>0</td>\n",
       "      <td>45</td>\n",
       "      <td>0</td>\n",
       "      <td>0</td>\n",
       "      <td>42.30</td>\n",
       "      <td>1840.75</td>\n",
       "      <td>...</td>\n",
       "      <td>0</td>\n",
       "      <td>0</td>\n",
       "      <td>0</td>\n",
       "      <td>1</td>\n",
       "      <td>0</td>\n",
       "      <td>1</td>\n",
       "      <td>0</td>\n",
       "      <td>0</td>\n",
       "      <td>0</td>\n",
       "      <td>0.130152</td>\n",
       "    </tr>\n",
       "    <tr>\n",
       "      <th>4</th>\n",
       "      <td>9237-HQITU</td>\n",
       "      <td>0</td>\n",
       "      <td>0</td>\n",
       "      <td>0</td>\n",
       "      <td>0</td>\n",
       "      <td>2</td>\n",
       "      <td>1</td>\n",
       "      <td>1</td>\n",
       "      <td>70.70</td>\n",
       "      <td>151.65</td>\n",
       "      <td>...</td>\n",
       "      <td>0</td>\n",
       "      <td>0</td>\n",
       "      <td>1</td>\n",
       "      <td>0</td>\n",
       "      <td>0</td>\n",
       "      <td>0</td>\n",
       "      <td>0</td>\n",
       "      <td>1</td>\n",
       "      <td>0</td>\n",
       "      <td>0.667152</td>\n",
       "    </tr>\n",
       "  </tbody>\n",
       "</table>\n",
       "<p>5 rows × 43 columns</p>\n",
       "</div>"
      ],
      "text/plain": [
       "   customerID  gender  SeniorCitizen  Partner  Dependents  tenure  \\\n",
       "0  7590-VHVEG       0              0        1           0       1   \n",
       "1  5575-GNVDE       1              0        0           0      34   \n",
       "2  3668-QPYBK       1              0        0           0       2   \n",
       "3  7795-CFOCW       1              0        0           0      45   \n",
       "4  9237-HQITU       0              0        0           0       2   \n",
       "\n",
       "   PhoneService  PaperlessBilling  MonthlyCharges  TotalCharges  ...  \\\n",
       "0             0                 1           29.85         29.85  ...   \n",
       "1             1                 0           56.95       1889.50  ...   \n",
       "2             1                 1           53.85        108.15  ...   \n",
       "3             0                 0           42.30       1840.75  ...   \n",
       "4             1                 1           70.70        151.65  ...   \n",
       "\n",
       "   StreamingMovies_No internet service  StreamingMovies_Yes  \\\n",
       "0                                    0                    0   \n",
       "1                                    0                    0   \n",
       "2                                    0                    0   \n",
       "3                                    0                    0   \n",
       "4                                    0                    0   \n",
       "\n",
       "   Contract_Month-to-month  Contract_One year  Contract_Two year  \\\n",
       "0                        1                  0                  0   \n",
       "1                        0                  1                  0   \n",
       "2                        1                  0                  0   \n",
       "3                        0                  1                  0   \n",
       "4                        1                  0                  0   \n",
       "\n",
       "   PaymentMethod_Bank transfer (automatic)  \\\n",
       "0                                        0   \n",
       "1                                        0   \n",
       "2                                        0   \n",
       "3                                        1   \n",
       "4                                        0   \n",
       "\n",
       "   PaymentMethod_Credit card (automatic)  PaymentMethod_Electronic check  \\\n",
       "0                                      0                               1   \n",
       "1                                      0                               0   \n",
       "2                                      0                               0   \n",
       "3                                      0                               0   \n",
       "4                                      0                               1   \n",
       "\n",
       "   PaymentMethod_Mailed check     proba  \n",
       "0                           0  0.540049  \n",
       "1                           1  0.128942  \n",
       "2                           1  0.330419  \n",
       "3                           0  0.130152  \n",
       "4                           0  0.667152  \n",
       "\n",
       "[5 rows x 43 columns]"
      ]
     },
     "execution_count": 111,
     "metadata": {},
     "output_type": "execute_result"
    }
   ],
   "source": [
    "df_clean_data.head()"
   ]
  },
  {
   "cell_type": "code",
   "execution_count": 112,
   "metadata": {},
   "outputs": [
    {
     "data": {
      "image/png": "[encoded data removed]",
      "text/plain": [
       "<Figure size 576x504 with 1 Axes>"
      ]
     },
     "metadata": {},
     "output_type": "display_data"
    }
   ],
   "source": [
    "from sklearn.metrics import roc_curve\n",
    "\n",
    "fpr, tpr, thresholds = roc_curve(y_test, y_pred_prob)\n",
    "\n",
    "plt.plot(fpr, tpr)\n",
    "\n",
    "plt.xlabel(\"False Positive Rate\")\n",
    "\n",
    "plt.ylabel(\"True Positive Rate\")\n",
    "\n",
    "plt.plot([0,1],[0,1],\"k--\")\n",
    "\n",
    "plt.show()"
   ]
  },
  {
   "cell_type": "code",
   "execution_count": 113,
   "metadata": {},
   "outputs": [
    {
     "name": "stdout",
     "output_type": "stream",
     "text": [
      "0.8427611086608964\n"
     ]
    }
   ],
   "source": [
    "# Import roc_auc_score\n",
    "from sklearn.metrics import roc_auc_score\n",
    "\n",
    "# Print the AUC\n",
    "print(roc_auc_score(y_test, y_pred_prob))"
   ]
  },
  {
   "cell_type": "markdown",
   "metadata": {},
   "source": [
    "### Select machine learning model"
   ]
  },
  {
   "cell_type": "code",
   "execution_count": 142,
   "metadata": {},
   "outputs": [
    {
     "name": "stdout",
     "output_type": "stream",
     "text": [
      "              precision    recall  f1-score   support\n",
      "\n",
      "           0       0.91      0.69      0.79      1552\n",
      "           1       0.49      0.81      0.61       561\n",
      "\n",
      "    accuracy                           0.72      2113\n",
      "   macro avg       0.70      0.75      0.70      2113\n",
      "weighted avg       0.80      0.72      0.74      2113\n",
      "\n"
     ]
    }
   ],
   "source": [
    "#Initialize the log reg model instance\n",
    "lr = LogisticRegression(solver='liblinear', C=0.0001)\n",
    "\n",
    "# fit the training data\n",
    "lr.fit(X_train, y_train)\n",
    "\n",
    "X_test_lr = scaler.transform(X_test)\n",
    "\n",
    "# Measureing the model accuracy\n",
    "y_pred_lr = lr.predict(X_test_lr)\n",
    "\n",
    "# classification report\n",
    "print(classification_report(y_test, y_pred_lr))"
   ]
  },
  {
   "cell_type": "code",
   "execution_count": null,
   "metadata": {},
   "outputs": [],
   "source": []
  }
 ],
 "metadata": {
  "kernelspec": {
   "display_name": "Python 3",
   "language": "python",
   "name": "python3"
  },
  "language_info": {
   "codemirror_mode": {
    "name": "ipython",
    "version": 3
   },
   "file_extension": ".py",
   "mimetype": "text/x-python",
   "name": "python",
   "nbconvert_exporter": "python",
   "pygments_lexer": "ipython3",
   "version": "3.8.3"
  }
 },
 "nbformat": 4,
 "nbformat_minor": 4
}
